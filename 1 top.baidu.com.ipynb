{
 "cells": [
  {
   "cell_type": "markdown",
   "metadata": {},
   "source": [
    "# preparations:"
   ]
  },
  {
   "cell_type": "code",
   "execution_count": 1,
   "metadata": {},
   "outputs": [],
   "source": [
    "import requests as rq\n",
    "from bs4 import BeautifulSoup as bs"
   ]
  },
  {
   "cell_type": "code",
   "execution_count": 2,
   "metadata": {},
   "outputs": [],
   "source": [
    "url = r'http://top.baidu.com/buzz?b=62&fr=topcategory_c16'"
   ]
  },
  {
   "cell_type": "markdown",
   "metadata": {},
   "source": [
    "# load the page"
   ]
  },
  {
   "cell_type": "code",
   "execution_count": 3,
   "metadata": {},
   "outputs": [],
   "source": [
    "rsp = rq.get(url)"
   ]
  },
  {
   "cell_type": "markdown",
   "metadata": {},
   "source": [
    "check the status"
   ]
  },
  {
   "cell_type": "code",
   "execution_count": 4,
   "metadata": {},
   "outputs": [
    {
     "data": {
      "text/plain": [
       "200"
      ]
     },
     "execution_count": 4,
     "metadata": {},
     "output_type": "execute_result"
    }
   ],
   "source": [
    "rsp.status_code"
   ]
  },
  {
   "cell_type": "markdown",
   "metadata": {},
   "source": [
    "fix the encoding"
   ]
  },
  {
   "cell_type": "code",
   "execution_count": 5,
   "metadata": {},
   "outputs": [],
   "source": [
    "rsp.encoding = rsp.apparent_encoding"
   ]
  },
  {
   "cell_type": "markdown",
   "metadata": {},
   "source": [
    "# analyse the page"
   ]
  },
  {
   "cell_type": "code",
   "execution_count": 6,
   "metadata": {},
   "outputs": [],
   "source": [
    "soup = bs(rsp.text, 'html.parser')"
   ]
  },
  {
   "cell_type": "markdown",
   "metadata": {},
   "source": [
    "print to check if it's all clear\n",
    "\n",
    "chinese shows normally because the encoding has been fixed"
   ]
  },
  {
   "cell_type": "code",
   "execution_count": 7,
   "metadata": {},
   "outputs": [
    {
     "name": "stdout",
     "output_type": "stream",
     "text": [
      "<!DOCTYPE html>\n",
      "<html>\n",
      " <head>\n",
      "  <meta content=\"text/html; charset=utf-8\" http-equiv=\"Content-Type\"/>\n",
      "  <link href=\"https://www.baidu.com/cache/icon/favicon.ico\" rel=\"shortcut icon\" type=\"image/x-icon\"/>\n",
      "  <link href=\"https://www.baidu.com/cache/icon/favicon.svg\" rel=\"icon\" sizes=\"any\"/>\n",
      "  <title>\n",
      "   今日网络游戏排行榜--百度搜索风云榜\n",
      "  </title>\n",
      "  <base href=\"http://top.baidu.com/\"/>\n",
      "  <style>\n",
      "   .icon-xiang-imp {background:url(http://top.bdimg.com/frontend/static/common/images/xiang.png) center center no-repea\n"
     ]
    }
   ],
   "source": [
    "print(soup.prettify()[:500])"
   ]
  },
  {
   "cell_type": "markdown",
   "metadata": {},
   "source": [
    "An alternative of doing the same thing:\n",
    "`find_all(tag, class_=cls_name)`"
   ]
  },
  {
   "cell_type": "code",
   "execution_count": 8,
   "metadata": {},
   "outputs": [],
   "source": [
    "items = soup.find_all('a', attrs={'class':'list-title'})"
   ]
  },
  {
   "cell_type": "code",
   "execution_count": 9,
   "metadata": {},
   "outputs": [
    {
     "name": "stdout",
     "output_type": "stream",
     "text": [
      "1:我的世界\n",
      "2:英雄联盟\n",
      "3:梦幻西游\n",
      "4:dota2\n",
      "5:魔兽世界\n",
      "6:流放之路\n",
      "7:穿越火线\n",
      "8:坦克世界\n",
      "9:300英雄\n",
      "10:qq飞车\n",
      "11:天涯明月刀\n",
      "12:守望先锋\n",
      "13:逆战\n",
      "14:剑灵\n",
      "15:冒险岛\n",
      "16:逆水寒\n",
      "17:剑网3\n",
      "18:战舰世界\n",
      "19:地下城与勇士\n",
      "20:传奇\n",
      "21:热血传奇\n",
      "22:龙之谷\n",
      "23:方舟生存进化\n",
      "24:冒险岛2\n",
      "25:激战2\n",
      "26:变形金刚\n",
      "27:天龙八部\n",
      "28:跑跑卡丁车\n",
      "29:问道\n",
      "30:qq炫舞\n",
      "31:魔力宝贝\n",
      "32:枪神纪\n",
      "33:神武\n",
      "34:英魂之刃\n",
      "35:诛仙\n",
      "36:风暴英雄\n",
      "37:游戏人生\n",
      "38:魔域\n",
      "39:封印者\n",
      "40:热血江湖\n",
      "41:星际战甲\n",
      "42:九阴真经\n",
      "43:暗黑破坏神3\n",
      "44:宠物小精灵\n",
      "45:传奇世界\n",
      "46:大话西游2\n",
      "47:天谕\n",
      "48:诛仙3\n",
      "49:qq三国\n",
      "50:最终幻想14\n"
     ]
    }
   ],
   "source": [
    "for idx, item in enumerate(items):\n",
    "    print('{}:{}'.format(idx+1, item.string))"
   ]
  }
 ],
 "metadata": {
  "kernelspec": {
   "display_name": "Python 3",
   "language": "python",
   "name": "python3"
  },
  "language_info": {
   "codemirror_mode": {
    "name": "ipython",
    "version": 3
   },
   "file_extension": ".py",
   "mimetype": "text/x-python",
   "name": "python",
   "nbconvert_exporter": "python",
   "pygments_lexer": "ipython3",
   "version": "3.6.1"
  }
 },
 "nbformat": 4,
 "nbformat_minor": 2
}
