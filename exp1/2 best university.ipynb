{
 "cells": [
  {
   "cell_type": "markdown",
   "metadata": {},
   "source": [
    "# Preparations"
   ]
  },
  {
   "cell_type": "code",
   "execution_count": 1,
   "metadata": {},
   "outputs": [],
   "source": [
    "import requests as rq\n",
    "from bs4 import BeautifulSoup as bs"
   ]
  },
  {
   "cell_type": "markdown",
   "metadata": {},
   "source": [
    "#### a module for obtaining the page's raw text"
   ]
  },
  {
   "cell_type": "code",
   "execution_count": 2,
   "metadata": {},
   "outputs": [],
   "source": [
    "def get_html(url):\n",
    "    try:\n",
    "        useragent = {'User-Agent':'Mozilla/5.0'} #模拟浏览器\n",
    "        rsp = rq.get(url, timeout=10, headers=useragent)\n",
    "        rsp.raise_for_status() #根据状态码抛出HTTPError异常\n",
    "        rsp.encoding = rsp.apparent_encoding #使得解码正确\n",
    "        return rsp.text\n",
    "    except:\n",
    "        return \"Exception with staus code:\"+rsp.staus_code"
   ]
  },
  {
   "cell_type": "markdown",
   "metadata": {},
   "source": [
    "#### fetch the page and prepare the soup for analysis"
   ]
  },
  {
   "cell_type": "code",
   "execution_count": 3,
   "metadata": {},
   "outputs": [],
   "source": [
    "url = 'http://www.zuihaodaxue.com/shengyuanzhiliangpaiming2017.html'\n",
    "content = get_html(url)\n",
    "soup = bs(content, 'html.parser')"
   ]
  },
  {
   "cell_type": "markdown",
   "metadata": {},
   "source": [
    "# An experiment for the crawling"
   ]
  },
  {
   "cell_type": "code",
   "execution_count": 4,
   "metadata": {},
   "outputs": [
    {
     "name": "stdout",
     "output_type": "stream",
     "text": [
      "<!DOCTYPE html>\n",
      "<html lang=\"zh\">\n",
      " <head>\n",
      "  <meta charset=\"utf-8\"/>\n",
      "  <meta content=\"width=device-width, initial-scale=1\" name=\"viewport\"/>\n",
      "  <meta content=\"2016,中国,最好,综合,大学,排名\" name=\"keywords\"/>\n",
      "  <meta content=\"2016中国最好大学排名包括1个综合和8个单项排名。综合排名针对的是培养本科生且科研规模和科技服务规模均在一定水平以上的综合性研究型大学。\" name=\"description\"/>\n",
      "  <meta content=\"最好大学网\" name=\"author\"/>\n",
      "  <link href=\"./houtai/templates/images/favicon.png\" rel=\"shortcut icon\"/>\n",
      "  <title>\n",
      "   2017生源质量排名_最好大学网\n",
      "  </title>\n",
      "  <link href=\"./houtai/templates/css/bootstrap.min.css\" rel=\"stylesheet\"/>\n",
      "  <link href=\"./houtai/templates/css/template.css\" rel=\"stylesheet\"/>\n",
      "  <!--[if lt IE 9]>\r\n",
      "      <script src=\"https://oss.maxcdn.com/html5shiv/3.7.2/html5shiv.min.js\"></script>\r\n",
      "      <script src=\"https://oss.maxcdn.com/respond/1.4.2/respond.min.js\"></script>\r\n",
      "    <![endif]-->\n",
      "  <script>\n",
      "   var _hmt = _hmt || [];(function() {  var hm = document.createElement(\"script\");  hm.src = \"//hm.baidu.com/hm.js?2ce94714199fe618dcebb5872c6def14\";  var s = document.getEleme\n"
     ]
    }
   ],
   "source": [
    "print(soup.prettify()[:1000])"
   ]
  },
  {
   "cell_type": "code",
   "execution_count": 5,
   "metadata": {},
   "outputs": [],
   "source": [
    "body = soup.find('tbody') # 只要一个"
   ]
  },
  {
   "cell_type": "markdown",
   "metadata": {},
   "source": [
    "#### take one item to make a trial"
   ]
  },
  {
   "cell_type": "code",
   "execution_count": 6,
   "metadata": {},
   "outputs": [],
   "source": [
    "items = body.find_all('tr')\n",
    "item = items[0]"
   ]
  },
  {
   "cell_type": "markdown",
   "metadata": {},
   "source": [
    "#### traverse through all the children tr tag and keep their content by `tag.string`"
   ]
  },
  {
   "cell_type": "code",
   "execution_count": 7,
   "metadata": {},
   "outputs": [
    {
     "data": {
      "text/plain": [
       "['1', '清华大学', '北京', '100.0 ']"
      ]
     },
     "execution_count": 7,
     "metadata": {},
     "output_type": "execute_result"
    }
   ],
   "source": [
    "attrs = [td.string for td in item.find_all('td')]\n",
    "attrs"
   ]
  },
  {
   "cell_type": "markdown",
   "metadata": {},
   "source": [
    "# Put it all together"
   ]
  },
  {
   "cell_type": "code",
   "execution_count": 8,
   "metadata": {},
   "outputs": [],
   "source": [
    "def get_all_attrs(content):\n",
    "    soup = bs(content, 'html.parser')\n",
    "    body = soup.find('tbody') # 只要一个\n",
    "    items = body.find_all('tr')\n",
    "    all_attrs = []\n",
    "    for item in items:\n",
    "        attrs = []\n",
    "        \n",
    "        for td in item.find_all('td'):\n",
    "            attrs.append(td.string)\n",
    "            \n",
    "        all_attrs.append([td.string for td in item.find_all('td')])\n",
    "    \n",
    "    return all_attrs"
   ]
  },
  {
   "cell_type": "code",
   "execution_count": 9,
   "metadata": {},
   "outputs": [],
   "source": [
    "all_attrs = get_all_attrs(content)"
   ]
  },
  {
   "cell_type": "markdown",
   "metadata": {},
   "source": [
    "#### string formatting"
   ]
  },
  {
   "cell_type": "code",
   "execution_count": 10,
   "metadata": {},
   "outputs": [
    {
     "name": "stdout",
     "output_type": "stream",
     "text": [
      "排名   \t　　　　　　学校　　　　　　　\t 省市  \t   得分   \n",
      "1    \t　　　　　清华大学　　　　　　\t 北京  \t 100.0  \n",
      "2    \t　　　　　北京大学　　　　　　\t 北京  \t 96.1   \n",
      "3    \t　　　　中国科学院大学　　　　\t 北京  \t 92.4   \n",
      "4    \t　　　中国科学技术大学　　　　\t 安徽  \t 91.9   \n",
      "5    \t　　　　　复旦大学　　　　　　\t 上海  \t 91.8   \n",
      "6    \t　　　　中国人民大学　　　　　\t 北京  \t 90.0   \n",
      "7    \t　　　　上海交通大学　　　　　\t 上海  \t 89.4   \n",
      "8    \t　　　　　浙江大学　　　　　　\t 浙江  \t 87.2   \n",
      "9    \t　　　　　南京大学　　　　　　\t 江苏  \t 87.1   \n",
      "10   \t　　　　　南开大学　　　　　　\t 天津  \t 86.5   \n",
      "11   \t　　　　　同济大学　　　　　　\t 上海  \t 86.2   \n",
      "12   \t　　　北京航空航天大学　　　　\t 北京  \t 85.5   \n",
      "13   \t　　　对外经济贸易大学　　　　\t 北京  \t 84.5   \n",
      "13   \t　　　　上海财经大学　　　　　\t 上海  \t 84.5   \n",
      "15   \t　　　　中央财经大学　　　　　\t 北京  \t 84.4   \n",
      "16   \t　　　　　外交学院　　　　　　\t 北京  \t 82.9   \n",
      "17   \t　　　　　天津大学　　　　　　\t 天津  \t 82.7   \n",
      "18   \t　　　　　武汉大学　　　　　　\t 湖北  \t 82.5   \n",
      "18   \t　　　　北京师范大学　　　　　\t 北京  \t 82.5   \n",
      "20   \t　　　　北京外国语大学　　　　\t 北京  \t 82.3   \n",
      "21   \t　　　　西安交通大学　　　　　\t 陕西  \t 82.2   \n",
      "22   \t　　　　　厦门大学　　　　　　\t 福建  \t 81.5   \n",
      "23   \t　　　　　中山大学　　　　　　\t 广东  \t 81.1   \n",
      "24   \t　　　　华中科技大学　　　　　\t 湖北  \t 80.6   \n",
      "25   \t　　　　　东南大学　　　　　　\t 江苏  \t 80.5   \n",
      "26   \t　　　　北京理工大学　　　　　\t 北京  \t 80.4   \n",
      "27   \t　　　　中国政法大学　　　　　\t 北京  \t 80.3   \n",
      "28   \t　　　　北京邮电大学　　　　　\t 北京  \t 77.4   \n",
      "29   \t　　香港中文大学（深圳）　　　\t 广东  \t 77.1   \n",
      "30   \t　　　　西南财经大学　　　　　\t 四川  \t 76.7   \n",
      "31   \t　　　　哈尔滨工业大学　　　　\t 黑龙江 \t 76.4   \n",
      "32   \t　　　　华东师范大学　　　　　\t 上海  \t 76.1   \n",
      "33   \t　　　　上海外国语大学　　　　\t 上海  \t 75.8   \n",
      "34   \t　　　　华南理工大学　　　　　\t 广东  \t 75.6   \n",
      "35   \t　　　　西北工业大学　　　　　\t 陕西  \t 75.5   \n",
      "36   \t　　　中南财经政法大学　　　　\t 湖北  \t 74.9   \n",
      "37   \t　　　　　四川大学　　　　　　\t 四川  \t 74.5   \n",
      "38   \t　　　　中国传媒大学　　　　　\t 北京  \t 74.4   \n",
      "39   \t　　　　　中南大学　　　　　　\t 湖南  \t 74.2   \n",
      "40   \t　　　　大连理工大学　　　　　\t 辽宁  \t 74.0   \n",
      "41   \t　　　　上海纽约大学　　　　　\t 上海  \t 73.9   \n",
      "42   \t　　　　北京交通大学　　　　　\t 北京  \t 73.4   \n",
      "43   \t　　　　　湖南大学　　　　　　\t 湖南  \t 73.3   \n",
      "43   \t　　　　电子科技大学　　　　　\t 四川  \t 73.3   \n",
      "45   \t　　　　北京科技大学　　　　　\t 北京  \t 73.2   \n",
      "46   \t　　　　北京协和医学院　　　　\t 北京  \t 72.4   \n",
      "47   \t　　　　　吉林大学　　　　　　\t 吉林  \t 72.3   \n",
      "48   \t　　华北电力大学（北京）　　　\t 北京  \t 72.1   \n",
      "49   \t　　　　　重庆大学　　　　　　\t 重庆  \t 72.0   \n",
      "50   \t　　　　　山东大学　　　　　　\t 山东  \t 71.9   \n",
      "51   \t　　　　北京语言大学　　　　　\t 北京  \t 71.6   \n",
      "52   \t　　　　天津医科大学　　　　　\t 天津  \t 71.4   \n",
      "53   \t　　　　首都医科大学　　　　　\t 北京  \t 71.0   \n",
      "54   \t　　　　　暨南大学　　　　　　\t 广东  \t 70.9   \n",
      "55   \t　　　南京航空航天大学　　　　\t 江苏  \t 70.8   \n",
      "56   \t　　　　华东理工大学　　　　　\t 上海  \t 70.7   \n",
      "56   \t　　　　南京理工大学　　　　　\t 江苏  \t 70.7   \n",
      "58   \t　　　西安电子科技大学　　　　\t 陕西  \t 70.3   \n",
      "58   \t　　　　东北财经大学　　　　　\t 辽宁  \t 70.3   \n",
      "60   \t　　　　南方科技大学　　　　　\t 广东  \t 70.2   \n",
      "61   \t　　　　中国农业大学　　　　　\t 北京  \t 69.7   \n",
      "62   \t　　　　中国医科大学　　　　　\t 辽宁  \t 69.5   \n",
      "63   \t　　　　中国海洋大学　　　　　\t 山东  \t 69.0   \n",
      "64   \t　　　　上海科技大学　　　　　\t 上海  \t 68.7   \n",
      "65   \t　　　　北京中医药大学　　　　\t 北京  \t 68.6   \n",
      "66   \t　　华北电力大学（保定）　　　\t 河北  \t 68.3   \n",
      "67   \t　　　　天津财经大学　　　　　\t 天津  \t 67.9   \n",
      "68   \t　　　　华中师范大学　　　　　\t 湖北  \t 67.6   \n",
      "69   \t　　　　武汉理工大学　　　　　\t 湖北  \t 67.5   \n",
      "69   \t　　　　哈尔滨工程大学　　　　\t 黑龙江 \t 67.5   \n",
      "71   \t　　　　河北工业大学　　　　　\t 河北  \t 67.4   \n",
      "72   \t　　　　　东北大学　　　　　　\t 辽宁  \t 67.2   \n",
      "73   \t　　　　国际关系学院　　　　　\t 北京  \t 67.1   \n",
      "74   \t　　　　　兰州大学　　　　　　\t 甘肃  \t 66.3   \n",
      "74   \t　　　　中国药科大学　　　　　\t 江苏  \t 66.3   \n",
      "74   \t　　　　　河海大学　　　　　　\t 江苏  \t 66.3   \n",
      "74   \t　　　　北京林业大学　　　　　\t 北京  \t 66.3   \n",
      "74   \t　　　　华东政法大学　　　　　\t 上海  \t 66.3   \n",
      "79   \t　　中国石油大学（北京）　　　\t 北京  \t 66.0   \n",
      "80   \t　　　　　福州大学　　　　　　\t 福建  \t 65.9   \n",
      "81   \t　　　　北京化工大学　　　　　\t 北京  \t 65.8   \n",
      "82   \t　　　　　东华大学　　　　　　\t 上海  \t 65.6   \n",
      "83   \t　　　　　江南大学　　　　　　\t 江苏  \t 65.4   \n",
      "84   \t　　　　　苏州大学　　　　　　\t 江苏  \t 65.1   \n",
      "85   \t　　　　南方医科大学　　　　　\t 广东  \t 64.9   \n",
      "85   \t　　　上海对外经贸大学　　　　\t 上海  \t 64.9   \n",
      "87   \t　　　　浙江工业大学　　　　　\t 浙江  \t 64.7   \n",
      "88   \t　　　　北京工业大学　　　　　\t 北京  \t 64.3   \n",
      "88   \t　　　广东外语外贸大学　　　　\t 广东  \t 64.3   \n",
      "90   \t　　　　　燕山大学　　　　　　\t 河北  \t 64.0   \n",
      "91   \t　　中国地质大学（北京）　　　\t 北京  \t 63.9   \n",
      "91   \t　　　　　长安大学　　　　　　\t 陕西  \t 63.9   \n",
      "91   \t　　　中国青年政治学院　　　　\t 北京  \t 63.9   \n",
      "94   \t　　　　东北师范大学　　　　　\t 吉林  \t 63.7   \n",
      "94   \t　　　　　西北大学　　　　　　\t 陕西  \t 63.7   \n",
      "94   \t　　　　宁波诺丁汉大学　　　　\t 浙江  \t 63.7   \n",
      "97   \t　　中国石油大学（华东）　　　\t 山东  \t 63.6   \n",
      "98   \t　　　　　上海大学　　　　　　\t 上海  \t 63.5   \n",
      "98   \t　　中国地质大学（武汉）　　　\t 湖北  \t 63.5   \n",
      "100  \t　　　首都经济贸易大学　　　　\t 北京  \t 63.3   \n"
     ]
    }
   ],
   "source": [
    "fmt = \"{0[0]:<5}\\t{0[1]:{1}^15}\\t{0[2]:^5}\\t{0[3]:^8}\" #参数标记可以直接indexing表明使用参数数组的第几个元素\n",
    "print(fmt.format(['排名','学校','省市','得分'],chr(12288)))\n",
    "for item in all_attrs[:100]:\n",
    "    print(fmt.format(item, chr(12288)))"
   ]
  },
  {
   "cell_type": "markdown",
   "metadata": {},
   "source": [
    "# 思考题1\n",
    "#### the original code\n",
    "在`fillUnivList()`加了调试语句"
   ]
  },
  {
   "cell_type": "code",
   "execution_count": 11,
   "metadata": {},
   "outputs": [],
   "source": [
    "import requests\n",
    "from bs4 import BeautifulSoup \n",
    "import bs4\n",
    "\n",
    "def getHTMLText(url):\n",
    "    try:\n",
    "        r = requests.get(url, timeout=30) \n",
    "        r.raise_for_status()\n",
    "        r.encoding = r.apparent_encoding \n",
    "        return r.text\n",
    "    except: \n",
    "        return \"\"\n",
    "\n",
    "def fillUnivList(ulist, html):\n",
    "    soup = BeautifulSoup(html, \"html.parser\") \n",
    "    flag = True\n",
    "    for tr in soup.find('tbody').children:\n",
    "        \n",
    "        if isinstance(tr, bs4.element.Tag): \n",
    "            tds = tr('td')\n",
    "            if flag:\n",
    "                print(tr.prettify())\n",
    "\n",
    "                for idx,td in enumerate(tds):\n",
    "                    print('============{}==========='.format(idx))\n",
    "                    print(td.prettify())\n",
    "                flag = False\n",
    "            \n",
    "            ulist.append([tds[0].string, tds[1].string, tds[3].string])\n",
    "\n",
    "def printUnivList(ulist, num): \n",
    "    print(\"{:^10}\\t{:^6}\\t{:^10}\".format(\"排名\", \"学校名称\", \"总分\")) \n",
    "    for i in range(num):\n",
    "        u = ulist[i] \n",
    "        print(\"{:^10}\\t{:^6}\\t{:^10}\".format(u[0], u[1], u[2]))\n",
    "        \n",
    "def main(url): \n",
    "    uinfo = []\n",
    "    html = getHTMLText(url)\n",
    "    fillUnivList(uinfo, html)\n",
    "    printUnivList(uinfo, 20) # 20 univs\n"
   ]
  },
  {
   "cell_type": "markdown",
   "metadata": {},
   "source": [
    "#### Debugging"
   ]
  },
  {
   "cell_type": "code",
   "execution_count": 12,
   "metadata": {},
   "outputs": [],
   "source": [
    "url1 = 'http://www.zuihaodaxue.cn/zuihaodaxuepaiming2016.html'\n",
    "url2 = 'http://www.zuihaodaxue.cn/zuihaodaxuepaiming2017.html'"
   ]
  },
  {
   "cell_type": "markdown",
   "metadata": {},
   "source": [
    "2016"
   ]
  },
  {
   "cell_type": "code",
   "execution_count": 13,
   "metadata": {},
   "outputs": [
    {
     "name": "stdout",
     "output_type": "stream",
     "text": [
      "<tr class=\"alt\">\n",
      " <td>\n",
      "  1\n",
      " </td>\n",
      " <td>\n",
      "  <div align=\"left\">\n",
      "   清华大学\n",
      "  </div>\n",
      " </td>\n",
      " <td>\n",
      "  北京市\n",
      " </td>\n",
      " <td>\n",
      "  95.9\n",
      " </td>\n",
      " <td class=\"hidden-xs need-hidden indicator5\">\n",
      "  100.0\n",
      " </td>\n",
      " <td class=\"hidden-xs need-hidden indicator6\" style=\"display:none;\">\n",
      "  97.90%\n",
      " </td>\n",
      " <td class=\"hidden-xs need-hidden indicator7\" style=\"display:none;\">\n",
      "  37342\n",
      " </td>\n",
      " <td class=\"hidden-xs need-hidden indicator8\" style=\"display:none;\">\n",
      "  1.298\n",
      " </td>\n",
      " <td class=\"hidden-xs need-hidden indicator9\" style=\"display:none;\">\n",
      "  1177\n",
      " </td>\n",
      " <td class=\"hidden-xs need-hidden indicator10\" style=\"display:none;\">\n",
      "  109\n",
      " </td>\n",
      " <td class=\"hidden-xs need-hidden indicator11\" style=\"display:none;\">\n",
      "  1137711\n",
      " </td>\n",
      " <td class=\"hidden-xs need-hidden indicator12\" style=\"display:none;\">\n",
      "  1187\n",
      " </td>\n",
      " <td class=\"hidden-xs need-hidden indicator13\" style=\"display:none;\">\n",
      "  593522\n",
      " </td>\n",
      "</tr>\n",
      "\n",
      "============0===========\n",
      "<td>\n",
      " 1\n",
      "</td>\n",
      "\n",
      "============1===========\n",
      "<td>\n",
      " <div align=\"left\">\n",
      "  清华大学\n",
      " </div>\n",
      "</td>\n",
      "\n",
      "============2===========\n",
      "<td>\n",
      " 北京市\n",
      "</td>\n",
      "\n",
      "============3===========\n",
      "<td>\n",
      " 95.9\n",
      "</td>\n",
      "\n",
      "============4===========\n",
      "<td class=\"hidden-xs need-hidden indicator5\">\n",
      " 100.0\n",
      "</td>\n",
      "\n",
      "============5===========\n",
      "<td class=\"hidden-xs need-hidden indicator6\" style=\"display:none;\">\n",
      " 97.90%\n",
      "</td>\n",
      "\n",
      "============6===========\n",
      "<td class=\"hidden-xs need-hidden indicator7\" style=\"display:none;\">\n",
      " 37342\n",
      "</td>\n",
      "\n",
      "============7===========\n",
      "<td class=\"hidden-xs need-hidden indicator8\" style=\"display:none;\">\n",
      " 1.298\n",
      "</td>\n",
      "\n",
      "============8===========\n",
      "<td class=\"hidden-xs need-hidden indicator9\" style=\"display:none;\">\n",
      " 1177\n",
      "</td>\n",
      "\n",
      "============9===========\n",
      "<td class=\"hidden-xs need-hidden indicator10\" style=\"display:none;\">\n",
      " 109\n",
      "</td>\n",
      "\n",
      "============10===========\n",
      "<td class=\"hidden-xs need-hidden indicator11\" style=\"display:none;\">\n",
      " 1137711\n",
      "</td>\n",
      "\n",
      "============11===========\n",
      "<td class=\"hidden-xs need-hidden indicator12\" style=\"display:none;\">\n",
      " 1187\n",
      "</td>\n",
      "\n",
      "============12===========\n",
      "<td class=\"hidden-xs need-hidden indicator13\" style=\"display:none;\">\n",
      " 593522\n",
      "</td>\n",
      "    排名    \t 学校名称 \t    总分    \n",
      "    1     \t 清华大学 \t   95.9   \n",
      "    2     \t 北京大学 \t   82.6   \n",
      "    3     \t 浙江大学 \t    80    \n",
      "    4     \t上海交通大学\t   78.7   \n",
      "    5     \t 复旦大学 \t   70.9   \n",
      "    6     \t 南京大学 \t   66.1   \n",
      "    7     \t中国科学技术大学\t   65.5   \n",
      "    8     \t哈尔滨工业大学\t   63.5   \n",
      "    9     \t华中科技大学\t   62.9   \n",
      "    10    \t 中山大学 \t   62.1   \n",
      "    11    \t 东南大学 \t   61.4   \n",
      "    12    \t 天津大学 \t   60.8   \n",
      "    13    \t 同济大学 \t   59.8   \n",
      "    14    \t北京航空航天大学\t   59.6   \n",
      "    15    \t 四川大学 \t   59.4   \n",
      "    16    \t 武汉大学 \t   59.1   \n",
      "    17    \t西安交通大学\t   58.9   \n",
      "    18    \t 南开大学 \t   58.3   \n",
      "    19    \t大连理工大学\t   56.9   \n",
      "    20    \t 山东大学 \t   56.3   \n"
     ]
    }
   ],
   "source": [
    "main(url1)"
   ]
  },
  {
   "cell_type": "markdown",
   "metadata": {},
   "source": [
    "2017"
   ]
  },
  {
   "cell_type": "code",
   "execution_count": 14,
   "metadata": {},
   "outputs": [
    {
     "name": "stdout",
     "output_type": "stream",
     "text": [
      "<tr class=\"alt\">\n",
      " <td>\n",
      "  1\n",
      "  <td>\n",
      "   <div align=\"left\">\n",
      "    清华大学\n",
      "   </div>\n",
      "  </td>\n",
      "  <td>\n",
      "   北京\n",
      "  </td>\n",
      "  <td>\n",
      "   94.0\n",
      "  </td>\n",
      "  <td class=\"hidden-xs need-hidden indicator5\">\n",
      "   100.0\n",
      "  </td>\n",
      "  <td class=\"hidden-xs need-hidden indicator6\" style=\"display:none;\">\n",
      "   97.70%\n",
      "  </td>\n",
      "  <td class=\"hidden-xs need-hidden indicator7\" style=\"display:none;\">\n",
      "   40938\n",
      "  </td>\n",
      "  <td class=\"hidden-xs need-hidden indicator8\" style=\"display:none;\">\n",
      "   1.381\n",
      "  </td>\n",
      "  <td class=\"hidden-xs need-hidden indicator9\" style=\"display:none;\">\n",
      "   1373\n",
      "  </td>\n",
      "  <td class=\"hidden-xs need-hidden indicator10\" style=\"display:none;\">\n",
      "   111\n",
      "  </td>\n",
      "  <td class=\"hidden-xs need-hidden indicator11\" style=\"display:none;\">\n",
      "   1263428\n",
      "  </td>\n",
      "  <td class=\"hidden-xs need-hidden indicator12\" style=\"display:none;\">\n",
      "   613524\n",
      "  </td>\n",
      "  <td class=\"hidden-xs need-hidden indicator13\" style=\"display:none;\">\n",
      "   7.04%\n",
      "  </td>\n",
      " </td>\n",
      "</tr>\n",
      "\n",
      "============0===========\n",
      "<td>\n",
      " 1\n",
      " <td>\n",
      "  <div align=\"left\">\n",
      "   清华大学\n",
      "  </div>\n",
      " </td>\n",
      " <td>\n",
      "  北京\n",
      " </td>\n",
      " <td>\n",
      "  94.0\n",
      " </td>\n",
      " <td class=\"hidden-xs need-hidden indicator5\">\n",
      "  100.0\n",
      " </td>\n",
      " <td class=\"hidden-xs need-hidden indicator6\" style=\"display:none;\">\n",
      "  97.70%\n",
      " </td>\n",
      " <td class=\"hidden-xs need-hidden indicator7\" style=\"display:none;\">\n",
      "  40938\n",
      " </td>\n",
      " <td class=\"hidden-xs need-hidden indicator8\" style=\"display:none;\">\n",
      "  1.381\n",
      " </td>\n",
      " <td class=\"hidden-xs need-hidden indicator9\" style=\"display:none;\">\n",
      "  1373\n",
      " </td>\n",
      " <td class=\"hidden-xs need-hidden indicator10\" style=\"display:none;\">\n",
      "  111\n",
      " </td>\n",
      " <td class=\"hidden-xs need-hidden indicator11\" style=\"display:none;\">\n",
      "  1263428\n",
      " </td>\n",
      " <td class=\"hidden-xs need-hidden indicator12\" style=\"display:none;\">\n",
      "  613524\n",
      " </td>\n",
      " <td class=\"hidden-xs need-hidden indicator13\" style=\"display:none;\">\n",
      "  7.04%\n",
      " </td>\n",
      "</td>\n",
      "============1===========\n",
      "<td>\n",
      " <div align=\"left\">\n",
      "  清华大学\n",
      " </div>\n",
      "</td>\n",
      "\n",
      "============2===========\n",
      "<td>\n",
      " 北京\n",
      "</td>\n",
      "\n",
      "============3===========\n",
      "<td>\n",
      " 94.0\n",
      "</td>\n",
      "\n",
      "============4===========\n",
      "<td class=\"hidden-xs need-hidden indicator5\">\n",
      " 100.0\n",
      "</td>\n",
      "\n",
      "============5===========\n",
      "<td class=\"hidden-xs need-hidden indicator6\" style=\"display:none;\">\n",
      " 97.70%\n",
      "</td>\n",
      "\n",
      "============6===========\n",
      "<td class=\"hidden-xs need-hidden indicator7\" style=\"display:none;\">\n",
      " 40938\n",
      "</td>\n",
      "\n",
      "============7===========\n",
      "<td class=\"hidden-xs need-hidden indicator8\" style=\"display:none;\">\n",
      " 1.381\n",
      "</td>\n",
      "\n",
      "============8===========\n",
      "<td class=\"hidden-xs need-hidden indicator9\" style=\"display:none;\">\n",
      " 1373\n",
      "</td>\n",
      "\n",
      "============9===========\n",
      "<td class=\"hidden-xs need-hidden indicator10\" style=\"display:none;\">\n",
      " 111\n",
      "</td>\n",
      "\n",
      "============10===========\n",
      "<td class=\"hidden-xs need-hidden indicator11\" style=\"display:none;\">\n",
      " 1263428\n",
      "</td>\n",
      "\n",
      "============11===========\n",
      "<td class=\"hidden-xs need-hidden indicator12\" style=\"display:none;\">\n",
      " 613524\n",
      "</td>\n",
      "\n",
      "============12===========\n",
      "<td class=\"hidden-xs need-hidden indicator13\" style=\"display:none;\">\n",
      " 7.04%\n",
      "</td>\n",
      "    排名    \t 学校名称 \t    总分    \n"
     ]
    },
    {
     "ename": "TypeError",
     "evalue": "unsupported format string passed to NoneType.__format__",
     "output_type": "error",
     "traceback": [
      "\u001b[1;31m---------------------------------------------------------------------------\u001b[0m",
      "\u001b[1;31mTypeError\u001b[0m                                 Traceback (most recent call last)",
      "\u001b[1;32m<ipython-input-14-449b6ba6f413>\u001b[0m in \u001b[0;36m<module>\u001b[1;34m()\u001b[0m\n\u001b[1;32m----> 1\u001b[1;33m \u001b[0mmain\u001b[0m\u001b[1;33m(\u001b[0m\u001b[0murl2\u001b[0m\u001b[1;33m)\u001b[0m\u001b[1;33m\u001b[0m\u001b[0m\n\u001b[0m",
      "\u001b[1;32m<ipython-input-11-f0232718adaf>\u001b[0m in \u001b[0;36mmain\u001b[1;34m(url)\u001b[0m\n\u001b[0;32m     39\u001b[0m     \u001b[0mhtml\u001b[0m \u001b[1;33m=\u001b[0m \u001b[0mgetHTMLText\u001b[0m\u001b[1;33m(\u001b[0m\u001b[0murl\u001b[0m\u001b[1;33m)\u001b[0m\u001b[1;33m\u001b[0m\u001b[0m\n\u001b[0;32m     40\u001b[0m     \u001b[0mfillUnivList\u001b[0m\u001b[1;33m(\u001b[0m\u001b[0muinfo\u001b[0m\u001b[1;33m,\u001b[0m \u001b[0mhtml\u001b[0m\u001b[1;33m)\u001b[0m\u001b[1;33m\u001b[0m\u001b[0m\n\u001b[1;32m---> 41\u001b[1;33m     \u001b[0mprintUnivList\u001b[0m\u001b[1;33m(\u001b[0m\u001b[0muinfo\u001b[0m\u001b[1;33m,\u001b[0m \u001b[1;36m20\u001b[0m\u001b[1;33m)\u001b[0m \u001b[1;31m# 20 univs\u001b[0m\u001b[1;33m\u001b[0m\u001b[0m\n\u001b[0m",
      "\u001b[1;32m<ipython-input-11-f0232718adaf>\u001b[0m in \u001b[0;36mprintUnivList\u001b[1;34m(ulist, num)\u001b[0m\n\u001b[0;32m     33\u001b[0m     \u001b[1;32mfor\u001b[0m \u001b[0mi\u001b[0m \u001b[1;32min\u001b[0m \u001b[0mrange\u001b[0m\u001b[1;33m(\u001b[0m\u001b[0mnum\u001b[0m\u001b[1;33m)\u001b[0m\u001b[1;33m:\u001b[0m\u001b[1;33m\u001b[0m\u001b[0m\n\u001b[0;32m     34\u001b[0m         \u001b[0mu\u001b[0m \u001b[1;33m=\u001b[0m \u001b[0mulist\u001b[0m\u001b[1;33m[\u001b[0m\u001b[0mi\u001b[0m\u001b[1;33m]\u001b[0m\u001b[1;33m\u001b[0m\u001b[0m\n\u001b[1;32m---> 35\u001b[1;33m         \u001b[0mprint\u001b[0m\u001b[1;33m(\u001b[0m\u001b[1;34m\"{:^10}\\t{:^6}\\t{:^10}\"\u001b[0m\u001b[1;33m.\u001b[0m\u001b[0mformat\u001b[0m\u001b[1;33m(\u001b[0m\u001b[0mu\u001b[0m\u001b[1;33m[\u001b[0m\u001b[1;36m0\u001b[0m\u001b[1;33m]\u001b[0m\u001b[1;33m,\u001b[0m \u001b[0mu\u001b[0m\u001b[1;33m[\u001b[0m\u001b[1;36m1\u001b[0m\u001b[1;33m]\u001b[0m\u001b[1;33m,\u001b[0m \u001b[0mu\u001b[0m\u001b[1;33m[\u001b[0m\u001b[1;36m2\u001b[0m\u001b[1;33m]\u001b[0m\u001b[1;33m)\u001b[0m\u001b[1;33m)\u001b[0m\u001b[1;33m\u001b[0m\u001b[0m\n\u001b[0m\u001b[0;32m     36\u001b[0m \u001b[1;33m\u001b[0m\u001b[0m\n\u001b[0;32m     37\u001b[0m \u001b[1;32mdef\u001b[0m \u001b[0mmain\u001b[0m\u001b[1;33m(\u001b[0m\u001b[0murl\u001b[0m\u001b[1;33m)\u001b[0m\u001b[1;33m:\u001b[0m\u001b[1;33m\u001b[0m\u001b[0m\n",
      "\u001b[1;31mTypeError\u001b[0m: unsupported format string passed to NoneType.__format__"
     ]
    }
   ],
   "source": [
    "main(url2)"
   ]
  },
  {
   "cell_type": "markdown",
   "metadata": {},
   "source": [
    "#### reasoning of the error\n",
    "u的元素有None，u是一个学校的信息\n",
    "\n",
    "ulist实参时uinfo，来自于fillUnivList()的赋值\n",
    "\n",
    "ulist每次append的是tds[0,1,3]的string，说明这里面有None"
   ]
  },
  {
   "cell_type": "code",
   "execution_count": null,
   "metadata": {
    "scrolled": true
   },
   "outputs": [],
   "source": [
    "tr = body.contents[1]\n",
    "tr?"
   ]
  },
  {
   "cell_type": "markdown",
   "metadata": {},
   "source": [
    "<img src=\"help.png\">"
   ]
  },
  {
   "cell_type": "markdown",
   "metadata": {},
   "source": [
    "如上图，`tag()`相当于调用`tag.find_all()`，所以`fillUnivList()`中的`tds`是td元素的list"
   ]
  },
  {
   "cell_type": "markdown",
   "metadata": {},
   "source": [
    "<img style=\"float: left;\" src=\"2016.png\">\n",
    "<img src=\"2017.png\">"
   ]
  },
  {
   "cell_type": "markdown",
   "metadata": {},
   "source": [
    "图中左为2016年一个tr的内容，右边是2017年的。很显然在第一个td，右边没有在排名1上封住，导致2017年解析时`tds[0].string`为空"
   ]
  },
  {
   "cell_type": "markdown",
   "metadata": {},
   "source": [
    "# 思考题2\n",
    "#### still make an experiment at first"
   ]
  },
  {
   "cell_type": "code",
   "execution_count": 15,
   "metadata": {},
   "outputs": [],
   "source": [
    "url = 'http://www.zuihaodaxue.cn/ARWU2016.html'\n",
    "content = get_html(url)\n",
    "soup = bs(content, 'html.parser')"
   ]
  },
  {
   "cell_type": "code",
   "execution_count": 16,
   "metadata": {},
   "outputs": [
    {
     "data": {
      "text/plain": [
       "500"
      ]
     },
     "execution_count": 16,
     "metadata": {},
     "output_type": "execute_result"
    }
   ],
   "source": [
    "body = soup.find('tbody')\n",
    "items = body.find_all('tr')\n",
    "len(items)"
   ]
  },
  {
   "cell_type": "code",
   "execution_count": 17,
   "metadata": {},
   "outputs": [
    {
     "name": "stdout",
     "output_type": "stream",
     "text": [
      "<tr>\n",
      " <td>\n",
      "  1\n",
      " </td>\n",
      " <td class=\"align-left\">\n",
      "  <a href=\"World-University-Rankings/Harvard-University.html\" target=\"_blank\">\n",
      "   哈佛大学\n",
      "  </a>\n",
      " </td>\n",
      " <td>\n",
      "  <a href=\"./World-University-Rankings-2016/USA.html\" target=\"_blank\">\n",
      "   <img src=\"./houtai/templates/flag/USA.png\"/>\n",
      "  </a>\n",
      " </td>\n",
      " <td class=\"hidden-xs\">\n",
      "  1\n",
      " </td>\n",
      " <td>\n",
      "  100.0\n",
      " </td>\n",
      " <td class=\"hidden-xs need-hidden alumni\">\n",
      "  100.0\n",
      " </td>\n",
      " <td class=\"hidden-xs need-hidden award\" style=\"display:none;\">\n",
      "  100.0\n",
      " </td>\n",
      " <td class=\"hidden-xs need-hidden hici\" style=\"display:none;\">\n",
      "  100.0\n",
      " </td>\n",
      " <td class=\"hidden-xs need-hidden ns\" style=\"display:none;\">\n",
      "  100.0\n",
      " </td>\n",
      " <td class=\"hidden-xs need-hidden pub\" style=\"display:none;\">\n",
      "  100.0\n",
      " </td>\n",
      " <td class=\"hidden-xs need-hidden pcp\" style=\"display:none;\">\n",
      "  79.2\n",
      " </td>\n",
      "</tr>\n",
      "\n"
     ]
    }
   ],
   "source": [
    "item = items[0]\n",
    "print(item.prettify())"
   ]
  },
  {
   "cell_type": "markdown",
   "metadata": {},
   "source": [
    "#### according to the below, `None` is required to get rid of "
   ]
  },
  {
   "cell_type": "code",
   "execution_count": 18,
   "metadata": {
    "scrolled": true
   },
   "outputs": [
    {
     "data": {
      "text/plain": [
       "['1',\n",
       " None,\n",
       " None,\n",
       " '1',\n",
       " '100.0',\n",
       " '100.0',\n",
       " '100.0',\n",
       " '100.0',\n",
       " '100.0',\n",
       " '100.0',\n",
       " '79.2']"
      ]
     },
     "execution_count": 18,
     "metadata": {},
     "output_type": "execute_result"
    }
   ],
   "source": [
    "tds = item.find_all('td')\n",
    "attrs = [td.string for td in tds]\n",
    "attrs"
   ]
  },
  {
   "cell_type": "markdown",
   "metadata": {},
   "source": [
    "#### according to the below, `string` is required to get rid of "
   ]
  },
  {
   "cell_type": "code",
   "execution_count": 19,
   "metadata": {},
   "outputs": [
    {
     "data": {
      "text/plain": [
       "['\\n',\n",
       " <a href=\"World-University-Rankings/Harvard-University.html\" target=\"_blank\">哈佛大学</a>,\n",
       " '\\n']"
      ]
     },
     "execution_count": 19,
     "metadata": {},
     "output_type": "execute_result"
    }
   ],
   "source": [
    "[x for x in tds[1].children]"
   ]
  },
  {
   "cell_type": "markdown",
   "metadata": {},
   "source": [
    "#### an integrated test"
   ]
  },
  {
   "cell_type": "code",
   "execution_count": 20,
   "metadata": {},
   "outputs": [
    {
     "data": {
      "text/plain": [
       "['1',\n",
       " '1',\n",
       " '100.0',\n",
       " '100.0',\n",
       " '100.0',\n",
       " '100.0',\n",
       " '100.0',\n",
       " '100.0',\n",
       " '79.2',\n",
       " '哈佛大学']"
      ]
     },
     "execution_count": 20,
     "metadata": {},
     "output_type": "execute_result"
    }
   ],
   "source": [
    "tds = item.find_all('td')\n",
    "attrs = [td.string for td in tds if td.string is not None]+[x.string for x in tds[1].children if not isinstance(x, str)]\n",
    "attrs"
   ]
  },
  {
   "cell_type": "markdown",
   "metadata": {},
   "source": [
    "#### now that it's all clear, here is the final code"
   ]
  },
  {
   "cell_type": "code",
   "execution_count": 22,
   "metadata": {},
   "outputs": [
    {
     "name": "stdout",
     "output_type": "stream",
     "text": [
      "总排名\t　　　　　　学校　　　　　　　\t 总分  \talumni\taward\thici \t ns  \t pub \t pcp \t国家排名\n",
      "1  \t　　　　　哈佛大学　　　　　　\t100.0\t100.0\t100.0\t100.0\t100.0\t100.0\t79.2 \t1  \n",
      "2  \t　　　　　斯坦福大学　　　　　\t74.7 \t42.9 \t89.6 \t80.1 \t73.6 \t73.1 \t55.8 \t2  \n",
      "3  \t　　　加州大学-伯克利　　　　\t70.1 \t65.1 \t79.4 \t64.9 \t68.7 \t68.4 \t59.0 \t3  \n",
      "4  \t　　　　　剑桥大学　　　　　　\t69.6 \t78.3 \t96.6 \t51.3 \t56.7 \t67.8 \t58.5 \t1  \n",
      "5  \t　　　　麻省理工学院　　　　　\t69.2 \t69.4 \t80.7 \t55.3 \t71.7 \t61.7 \t69.7 \t4  \n",
      "6  \t　　　　普林斯顿大学　　　　　\t62.0 \t53.3 \t98.0 \t51.3 \t47.2 \t42.9 \t74.4 \t5  \n",
      "7  \t　　　　　牛津大学　　　　　　\t58.9 \t49.7 \t54.9 \t56.2 \t55.0 \t74.5 \t46.1 \t2  \n",
      "8  \t　　　　加州理工学院　　　　　\t57.8 \t51.0 \t66.7 \t39.7 \t57.3 \t43.6 \t100.0\t6  \n",
      "9  \t　　　　哥伦比亚大学　　　　　\t56.7 \t63.5 \t65.9 \t41.0 \t53.3 \t68.9 \t33.3 \t7  \n",
      "10 \t　　　　　芝加哥大学　　　　　\t54.2 \t59.8 \t86.3 \t34.0 \t42.7 \t50.2 \t44.5 \t8  \n",
      "11 \t　　　　　耶鲁大学　　　　　　\t52.8 \t47.6 \t50.4 \t44.7 \t58.4 \t62.6 \t37.1 \t9  \n",
      "12 \t　　　加州大学-洛杉矶　　　　\t51.5 \t29.5 \t47.1 \t58.0 \t44.5 \t71.4 \t33.4 \t10 \n",
      "13 \t　　　　　康奈尔大学　　　　　\t49.0 \t42.0 \t49.8 \t41.0 \t47.0 \t60.5 \t40.9 \t11 \n",
      "14 \t　　　加州大学-圣地亚哥　　　\t47.8 \t19.2 \t35.5 \t49.2 \t57.8 \t63.5 \t37.0 \t12 \n",
      "15 \t　　　华盛顿大学-西雅图　　　\t47.3 \t21.2 \t31.6 \t49.2 \t52.1 \t72.6 \t31.0 \t13 \n",
      "16 \t　　　约翰霍普金斯大学　　　　\t46.0 \t37.7 \t33.6 \t38.4 \t47.0 \t71.9 \t31.1 \t14 \n",
      "17 \t　　　　伦敦大学学院　　　　　\t45.3 \t28.1 \t36.2 \t39.7 \t41.6 \t73.9 \t32.2 \t3  \n",
      "18 \t　　　　宾夕法尼亚大学　　　　\t44.5 \t31.6 \t33.8 \t42.3 \t39.4 \t67.7 \t37.8 \t15 \n",
      "19 \t　　　苏黎世联邦理工学院　　　\t43.8 \t29.5 \t35.5 \t35.5 \t50.2 \t55.6 \t46.1 \t1  \n",
      "20 \t　　　　　东京大学　　　　　　\t42.2 \t36.3 \t25.3 \t30.8 \t47.5 \t70.0 \t29.7 \t1  \n",
      "21 \t　　　加州大学-旧金山　　　　\t41.9 \t 0.0 \t39.9 \t37.0 \t52.1 \t59.3 \t33.5 \t16 \n",
      "22 \t　　　　伦敦帝国学院　　　　　\t41.6 \t14.5 \t35.8 \t43.5 \t32.9 \t64.0 \t39.9 \t4  \n",
      "23 \t　　　密歇根大学-安娜堡　　　\t40.8 \t34.4 \t 0.0 \t51.3 \t41.6 \t76.6 \t25.8 \t17 \n",
      "23 \t　　华盛顿大学-圣路易斯　　　\t40.8 \t22.9 \t24.9 \t51.3 \t42.0 \t51.7 \t37.2 \t17 \n",
      "25 \t　　　　　杜克大学　　　　　　\t40.4 \t15.4 \t19.2 \t57.1 \t38.9 \t62.1 \t25.9 \t19 \n",
      "26 \t　　　西北大学(美国)　　　　\t40.0 \t15.4 \t22.1 \t54.3 \t35.6 \t59.6 \t32.8 \t20 \n",
      "27 \t　　　　　多伦多大学　　　　　\t39.4 \t19.9 \t17.2 \t32.4 \t38.2 \t80.1 \t30.3 \t1  \n",
      "28 \t　　威斯康星大学-麦迪逊　　　\t39.2 \t32.8 \t34.8 \t30.8 \t35.0 \t62.7 \t24.3 \t21 \n",
      "29 \t　　　　　纽约大学　　　　　　\t38.0 \t28.1 \t31.9 \t32.4 \t39.5 \t57.3 \t22.0 \t22 \n",
      "30 \t　　　　哥本哈根大学　　　　　\t37.7 \t21.8 \t18.8 \t32.4 \t36.2 \t65.2 \t41.9 \t1  \n",
      "30 \t伊利诺伊大学厄巴纳-香槟分校　\t37.7 \t29.9 \t36.2 \t30.8 \t33.1 \t55.1 \t29.1 \t23 \n",
      "32 \t　　　　　京都大学　　　　　　\t37.2 \t31.6 \t37.2 \t27.1 \t31.5 \t58.4 \t23.8 \t2  \n",
      "33 \t　　　明尼苏达大学-双城　　　\t36.8 \t29.5 \t16.3 \t39.7 \t32.5 \t64.8 \t24.1 \t24 \n",
      "34 \t　　　英属哥伦比亚大学　　　　\t36.7 \t15.4 \t18.8 \t42.3 \t32.7 \t64.5 \t27.2 \t2  \n",
      "35 \t　　　　曼彻斯特大学　　　　　\t36.4 \t18.5 \t32.6 \t37.0 \t26.4 \t58.4 \t29.0 \t5  \n",
      "35 \t　　北卡罗来纳大学-教堂山　　\t36.4 \t 8.9 \t23.7 \t39.7 \t32.6 \t60.8 \t33.8 \t25 \n",
      "37 \t　　　　洛克菲勒大学　　　　　\t36.1 \t17.0 \t59.8 \t27.1 \t41.8 \t19.3 \t40.0 \t26 \n",
      "38 \t　　科罗拉多大学-玻尔得　　　\t35.1 \t12.6 \t34.1 \t30.8 \t36.8 \t46.2 \t35.1 \t27 \n",
      "39 \t　　　　巴黎第六大学　　　　　\t34.5 \t33.6 \t27.4 \t20.5 \t29.7 \t61.9 \t25.3 \t1  \n",
      "40 \t　　　　　墨尔本大学　　　　　\t33.9 \t17.0 \t13.3 \t35.5 \t24.8 \t67.9 \t32.2 \t1  \n",
      "41 \t　　　　　爱丁堡大学　　　　　\t33.6 \t20.5 \t24.9 \t32.4 \t31.3 \t52.1 \t26.8 \t6  \n",
      "42 \t　　加州大学-圣塔芭芭拉　　　\t33.3 \t14.5 \t39.1 \t32.4 \t27.3 \t37.7 \t38.2 \t28 \n",
      "43 \t　德克萨斯大学西南医学中心　　\t32.9 \t18.5 \t34.5 \t30.8 \t37.6 \t34.9 \t27.7 \t29 \n",
      "44 \t　　　　卡罗林斯卡学院　　　　\t32.7 \t25.6 \t26.6 \t22.9 \t25.1 \t52.6 \t40.2 \t1  \n",
      "44 \t　德克萨斯州大学奥斯汀分校　　\t32.7 \t16.2 \t16.3 \t29.0 \t37.0 \t56.3 \t26.6 \t30 \n",
      "46 \t　　　　巴黎第十一大学　　　　\t32.5 \t30.3 \t54.3 \t10.3 \t17.6 \t47.9 \t27.7 \t2  \n",
      "47 \t　　　　　海德堡大学　　　　　\t32.3 \t19.9 \t25.3 \t22.9 \t30.6 \t51.8 \t34.9 \t1  \n",
      "47 \t　　　　慕尼黑工业大学　　　　\t32.3 \t34.8 \t21.6 \t29.0 \t23.3 \t49.7 \t34.6 \t1  \n",
      "49 \t　　　　　南加州大学　　　　　\t32.2 \t 0.0 \t31.7 \t35.5 \t23.4 \t53.9 \t26.2 \t31 \n",
      "50 \t　　　　伦敦国王学院　　　　　\t31.6 \t21.2 \t21.0 \t34.0 \t19.6 \t55.3 \t27.9 \t7  \n",
      "51 \t　　　　　慕尼黑大学　　　　　\t31.4 \t25.6 \t19.1 \t25.1 \t29.4 \t50.3 \t33.9 \t3  \n",
      "52 \t　　　马里兰大学-大学城　　　\t31.0 \t19.2 \t20.0 \t22.9 \t32.8 \t52.7 \t27.6 \t32 \n",
      "53 \t　　　　　日内瓦大学　　　　　\t30.7 \t27.1 \t28.2 \t25.1 \t28.6 \t38.2 \t32.8 \t2  \n",
      "54 \t　　　　　苏黎世大学　　　　　\t30.5 \t 5.1 \t24.0 \t25.1 \t28.7 \t53.1 \t31.7 \t3  \n",
      "55 \t　　　　　昆士兰大学　　　　　\t30.2 \t12.6 \t 0.0 \t34.0 \t26.0 \t64.6 \t33.6 \t2  \n",
      "56 \t　　　　赫尔辛基大学　　　　　\t29.9 \t12.6 \t16.3 \t32.4 \t22.8 \t51.9 \t33.5 \t1  \n",
      "57 \t　　　　布里斯托尔大学　　　　\t29.7 \t 7.3 \t16.3 \t29.0 \t34.2 \t46.7 \t31.5 \t8  \n",
      "58 \t　　　　　清华大学　　　　　　\t29.6 \t10.3 \t 0.0 \t27.1 \t32.5 \t68.3 \t23.2 \t1  \n",
      "58 \t　　　　加州大学-欧文　　　　\t29.6 \t 0.0 \t29.3 \t29.0 \t28.1 \t45.0 \t26.8 \t33 \n",
      "60 \t　　　　乌普萨拉大学　　　　　\t29.3 \t17.8 \t27.4 \t17.8 \t24.8 \t50.2 \t28.5 \t2  \n",
      "60 \t　　　　　范德堡大学　　　　　\t29.3 \t15.4 \t29.0 \t25.1 \t20.4 \t51.0 \t19.9 \t34 \n",
      "62 \t　　　　　根特大学　　　　　　\t29.1 \t 5.1 \t13.3 \t32.4 \t18.6 \t57.9 \t35.7 \t1  \n",
      "63 \t　　　　　麦吉尔大学　　　　　\t28.9 \t32.8 \t 0.0 \t22.9 \t27.5 \t60.3 \t28.3 \t3  \n",
      "63 \t　　　普渡大学-西拉法叶　　　\t28.9 \t13.6 \t23.1 \t25.1 \t24.4 \t50.1 \t24.2 \t35 \n",
      "65 \t　　　　　奥胡斯大学　　　　　\t28.7 \t11.5 \t22.1 \t17.8 \t25.6 \t52.9 \t32.5 \t2  \n",
      "65 \t　　　　乌得勒支大学　　　　　\t28.7 \t22.9 \t20.0 \t22.9 \t25.9 \t46.3 \t27.6 \t1  \n",
      "67 \t　　　　　奥斯陆大学　　　　　\t28.6 \t28.1 \t32.6 \t10.3 \t18.4 \t50.6 \t28.1 \t1  \n",
      "68 \t　　　　卡内基梅隆大学　　　　\t28.1 \t31.6 \t31.6 \t25.1 \t13.7 \t33.9 \t34.7 \t36 \n",
      "69 \t　　　　以色列理工学院　　　　\t28.0 \t23.5 \t37.6 \t17.8 \t20.2 \t34.9 \t29.8 \t1  \n",
      "70 \t　　　　　匹兹堡大学　　　　　\t27.8 \t18.5 \t 0.0 \t38.4 \t19.4 \t59.7 \t19.0 \t37 \n",
      "71 \t　　　　　北京大学　　　　　　\t27.7 \t11.5 \t 0.0 \t27.1 \t24.5 \t66.7 \t22.7 \t2  \n",
      "72 \t　　　　　名古屋大学　　　　　\t27.5 \t29.0 \t25.3 \t20.5 \t17.9 \t44.2 \t24.8 \t3  \n",
      "72 \t　　　　　莱斯大学　　　　　　\t27.5 \t16.2 \t21.7 \t35.5 \t20.8 \t29.4 \t37.8 \t38 \n",
      "72 \t　　　　格罗宁根大学　　　　　\t27.5 \t 0.0 \t18.8 \t25.1 \t20.6 \t53.2 \t33.7 \t2  \n",
      "75 \t　　　　　波士顿大学　　　　　\t27.2 \t11.5 \t11.5 \t27.1 \t26.9 \t50.1 \t23.2 \t39 \n",
      "75 \t　　　加州大学-戴维斯　　　　\t27.2 \t 0.0 \t 0.0 \t30.8 \t32.0 \t58.1 \t24.9 \t39 \n",
      "77 \t　宾夕法尼亚州立大学-大学城　\t26.9 \t10.3 \t 0.0 \t30.8 \t30.5 \t53.4 \t24.0 \t41 \n",
      "77 \t　　　澳大利亚国立大学　　　　\t26.9 \t13.6 \t19.2 \t20.5 \t23.0 \t46.4 \t30.9 \t3  \n",
      "79 \t　　　　　莫纳什大学　　　　　\t26.8 \t 0.0 \t 0.0 \t34.0 \t22.3 \t59.7 \t30.5 \t4  \n",
      "79 \t　　俄亥俄州立大学-哥伦布　　\t26.8 \t12.6 \t 0.0 \t32.4 \t20.8 \t62.3 \t18.8 \t42 \n",
      "81 \t　　　　斯德哥尔摩大学　　　　\t26.7 \t24.1 \t27.4 \t14.5 \t21.2 \t41.9 \t27.3 \t3  \n",
      "82 \t　　　　　悉尼大学　　　　　　\t26.6 \t14.5 \t 0.0 \t25.1 \t17.8 \t65.7 \t28.6 \t5  \n",
      "83 \t　　　　麦克马斯特大学　　　　\t26.5 \t12.6 \t18.8 \t32.4 \t13.6 \t45.5 \t25.7 \t4  \n",
      "83 \t　　　　新加坡国立大学　　　　\t26.5 \t 0.0 \t 0.0 \t32.4 \t19.4 \t60.4 \t35.2 \t1  \n",
      "83 \t　　　加州大学-圣克鲁兹　　　\t26.5 \t 0.0 \t 0.0 \t47.0 \t32.4 \t28.8 \t42.9 \t43 \n",
      "86 \t　　　　梅奥临床医学院　　　　\t26.3 \t 0.0 \t 0.0 \t48.1 \t14.7 \t48.7 \t34.6 \t44 \n",
      "87 \t　　　巴黎高等师范学校　　　　\t26.2 \t48.9 \t28.0 \t 0.0 \t18.3 \t26.2 \t62.4 \t3  \n",
      "87 \t　　　　莫斯科国立大学　　　　\t26.2 \t41.4 \t33.0 \t 0.0 \t 8.3 \t49.7 \t33.1 \t1  \n",
      "87 \t　　　耶路撒冷希伯来大学　　　\t26.2 \t32.0 \t28.2 \t10.3 \t21.0 \t38.3 \t28.5 \t2  \n",
      "90 \t　　　　　布朗大学　　　　　　\t26.0 \t14.5 \t13.3 \t22.9 \t22.6 \t43.9 \t34.1 \t45 \n",
      "90 \t　　　　佛罗里达大学　　　　　\t26.0 \t17.0 \t 0.0 \t27.1 \t20.2 \t59.6 \t23.4 \t45 \n",
      "92 \t　　　洛桑联邦理工学院　　　　\t25.7 \t 0.0 \t 0.0 \t32.4 \t30.3 \t42.3 \t42.0 \t4  \n",
      "93 \t　　　　佐治亚理工学院　　　　\t25.6 \t12.6 \t 0.0 \t37.0 \t22.1 \t44.1 \t31.3 \t47 \n",
      "93 \t　　鲁汶大学(佛兰德语)　　　\t25.6 \t 0.0 \t 0.0 \t29.0 \t21.2 \t59.2 \t31.7 \t2  \n",
      "93 \t　　　　　莱顿大学　　　　　　\t25.6 \t17.8 \t 9.4 \t20.5 \t21.0 \t49.3 \t32.2 \t3  \n",
      "96 \t　　　　　大阪大学　　　　　　\t25.5 \t 8.9 \t 0.0 \t30.8 \t26.0 \t52.2 \t22.7 \t4  \n",
      "96 \t　罗格斯大学新布朗斯维克分校　\t25.5 \t10.3 \t18.8 \t22.9 \t25.4 \t43.9 \t17.3 \t48 \n",
      "96 \t　德克萨斯大学安德森肿瘤中心　\t25.5 \t 0.0 \t 0.0 \t35.5 \t22.3 \t41.8 \t50.4 \t48 \n",
      "96 \t　　　　西澳大利亚大学　　　　\t25.5 \t13.6 \t14.1 \t25.1 \t14.6 \t48.8 \t31.1 \t6  \n",
      "100\t　　　　　犹他大学　　　　　　\t25.4 \t 0.0 \t11.5 \t25.1 \t26.6 \t48.3 \t26.0 \t50 \n"
     ]
    }
   ],
   "source": [
    "def get_all_attrs(content):\n",
    "    soup = bs(content, 'html.parser')\n",
    "    body = soup.find('tbody') # 只要一个\n",
    "    items = body.find_all('tr')\n",
    "    all_attrs = []\n",
    "    for item in items:\n",
    "        \n",
    "        tds = item.find_all('td')\n",
    "        attrs = [td.string for td in tds if td.string is not None]+[x.string for x in tds[1].children if not isinstance(x, str)]\n",
    "            \n",
    "        all_attrs.append(attrs)\n",
    "    \n",
    "    return all_attrs\n",
    "\n",
    "all_attrs = get_all_attrs(content)\n",
    "\n",
    "fmt = \"{0[0]:<3}\\t{0[9]:{1}^15}\\t{0[2]:^5}\\t{0[3]:^5}\\t{0[4]:^5}\\t{0[5]:^5}\\t{0[6]:^5}\\t{0[7]:^5}\\t{0[8]:^5}\\t{0[1]:<3}\" #参数标记可以直接indexing表明使用参数数组的第几个元素\n",
    "print(fmt.format(['总排名','国家排名','总分','alumni','award','hici','ns','pub','pcp','学校'],chr(12288)))\n",
    "for item in all_attrs[:100]:\n",
    "    print(fmt.format(item, chr(12288)))"
   ]
  },
  {
   "cell_type": "code",
   "execution_count": null,
   "metadata": {},
   "outputs": [],
   "source": []
  }
 ],
 "metadata": {
  "kernelspec": {
   "display_name": "Python 3",
   "language": "python",
   "name": "python3"
  },
  "language_info": {
   "codemirror_mode": {
    "name": "ipython",
    "version": 3
   },
   "file_extension": ".py",
   "mimetype": "text/x-python",
   "name": "python",
   "nbconvert_exporter": "python",
   "pygments_lexer": "ipython3",
   "version": "3.6.1"
  }
 },
 "nbformat": 4,
 "nbformat_minor": 2
}
