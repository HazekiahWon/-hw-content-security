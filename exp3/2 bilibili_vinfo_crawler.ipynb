{
 "cells": [
  {
   "cell_type": "markdown",
   "metadata": {},
   "source": [
    "# Target\n",
    "在b站视频排行中获取视频的元数据  \n",
    "参照下面的网页  \n",
    "<img src='pics\\rankpage.png'>"
   ]
  },
  {
   "cell_type": "markdown",
   "metadata": {},
   "source": [
    "### 先分析一下这个排行的数据如何加载的\n",
    "在网络面板里搜一下关键词，先搜了一个`银临`\n",
    "<img src=\"pics\\findnomatch.png\">  \n",
    "\n",
    "但是没有匹配，又试了一下数字，用这里的评论数`1773`\n",
    "<img src=\"pics\\findbyreview.png\">  \n",
    "\n",
    "定位这个packet，用filter，然后查看一下链接和参数\n",
    "<img src='pics\\findparams.png'>"
   ]
  },
  {
   "cell_type": "markdown",
   "metadata": {},
   "source": [
    "### conclusions\n",
    "1. link=`https://s.search.bilibili.com/cate/search?`\n",
    "2. params\n",
    "    - callback=jqueryCallback_bili_7  \n",
    "    可以省略\n",
    "    - &main_ver=v3  \n",
    "    - &search_type=video\n",
    "    - &view_type=hot_rank  \n",
    "    对应搜索类型，现在是`视频热度排序`\n",
    "    - &order=stow  \n",
    "    ('click', 'scores', 'stow', 'coin', 'dm')   \n",
    "    播放、评论、收藏、硬币、弹幕\n",
    "    - &copy_right=1  \n",
    "    这是`原创`，`全部`是-1\n",
    "    - &cate_id=28  \n",
    "    **这是子分区的id，很重要，是需要获得的字段**\n",
    "    - &page=1  \n",
    "    - &pagesize=20  \n",
    "    最大是100  \n",
    "    - &jsonp=jsonp  \n",
    "    - &time_from=20180407&time_to=20180414  \n",
    "    不能超过三个月\n",
    "    - &_=1523704340572  \n",
    "    可以省略\n",
    "3. json  \n",
    "    请求返回json格式  \n",
    "<img src='pics\\json.png'>  \n",
    "\n",
    "    将会提取:\n",
    "    - pubdate\n",
    "    - play\n",
    "    - title\n",
    "    - review\n",
    "    - id\n",
    "    - favorites\n",
    "    - author"
   ]
  },
  {
   "cell_type": "markdown",
   "metadata": {},
   "source": [
    "# Process\n",
    "1. locate sections\n",
    "2. locate subsections and get subsection id\n",
    "3. query video info using the preceding link and parameters"
   ]
  },
  {
   "cell_type": "markdown",
   "metadata": {},
   "source": [
    "# Locate sections\n",
    "从`bilibili.com`进去然后提取导航条中的链接  \n",
    "<img src='pics\\main.png'>  \n",
    "\n",
    "### `scrapy shell <url>`进去先模拟一下提取的流程  \n",
    "下面是提取分区的链接\n",
    "<img src='pics\\section.png'>\n",
    "<img src='pics\\section2.png'>\n"
   ]
  },
  {
   "cell_type": "markdown",
   "metadata": {},
   "source": [
    "### 下面进入音乐分区获取子分区id\n",
    "<img src='pics\\2sub.png'>\n",
    "\n",
    "还是用搜索看能不能定位相关的数据，这里先试一下子分区名字`原创音乐`\n",
    "<img src='pics\\sub.png'>\n",
    "\n",
    "运气好，相关的数据都找到了，在一个js中，并且是在页面中preload的  \n",
    "<img src=\"pics\\preload.png\">  \n",
    "\n",
    "所以现在考虑如何从页面response中定位  \n",
    "先看一下页面响应，用bs4格式化一下\n",
    "<img src='pics\\rsp.png'>\n",
    "<img src='pics\\rspj.png'>"
   ]
  },
  {
   "cell_type": "markdown",
   "metadata": {},
   "source": [
    "因为知道在某个`script`标签里面，所以先`xpath`定位，再`re`提取\n",
    "<img src='pics\\scr.png'>\n",
    "<img src='pics\\rescr.png'>"
   ]
  },
  {
   "cell_type": "markdown",
   "metadata": {},
   "source": [
    "因为是字典用`json`库复原字符串为字典，然后挖掘一下\n",
    "<img src='pics\\subid.png'>  \n",
    "上面`tid`就是需要的字段"
   ]
  },
  {
   "cell_type": "markdown",
   "metadata": {},
   "source": [
    "# Code Analysis"
   ]
  },
  {
   "attachments": {},
   "cell_type": "markdown",
   "metadata": {},
   "source": [
    "### 1. starting requests\n",
    "直接是网站主页  \n",
    "<img src='pics\\ml.png'>"
   ]
  },
  {
   "cell_type": "markdown",
   "metadata": {},
   "source": [
    "### 2. obtaining section pages \n",
    "在得到网站主页后首先分析出分区的信息，所以上面的`Request`回调就是这个函数 \n",
    "<img src='pics\\csec.png'>"
   ]
  },
  {
   "cell_type": "markdown",
   "metadata": {},
   "source": [
    "### 3. obtaining subsection infos\n",
    "在加载出分区页面后，需要提取该分区的id，这是为后面的搜索字段做准备的，上面的回调正是本函数  \n",
    "<img src='pics\\css1.png'>  \n",
    "\n",
    "上面是在加载Json变成dict，然后遍历整个子分区列表提取信息。提取出id后就可以进行搜索了，使用了下面的私有方法构造url  \n",
    "<img src='pics\\css2.png'>  \n",
    "\n",
    "搜索参数中因为最大时间间隔是三个月，所以上面代码以当前日期为准向前不断推进3个月  \n",
    "<img src='pics\\css3.png'>  \n",
    "\n",
    "确定时间间隔后，使用提供的子分区id即可构造出完整的搜索链接"
   ]
  },
  {
   "cell_type": "markdown",
   "metadata": {},
   "source": [
    "### 4. extracting search results\n",
    "<img src='pics\\cesr.png'>    \n",
    "这一步是上一步的回调函数，搜索链接返回的直接是json，所以转换成dict提取字段即可"
   ]
  },
  {
   "cell_type": "markdown",
   "metadata": {},
   "source": [
    "### 5. converting to excel\n",
    "<img src='pics\\cesr.png'>  \n",
    "\n",
    "爬取时先输出到json，接着使用`pandas`读成`DataFrame`存到excel\n",
    "<img src='pics\\mn.png'> "
   ]
  },
  {
   "cell_type": "markdown",
   "metadata": {},
   "source": [
    "# 结果和日志分别命名为`results.xls`和`logger.txt`"
   ]
  }
 ],
 "metadata": {
  "kernelspec": {
   "display_name": "Python 3",
   "language": "python",
   "name": "python3"
  },
  "language_info": {
   "codemirror_mode": {
    "name": "ipython",
    "version": 3
   },
   "file_extension": ".py",
   "mimetype": "text/x-python",
   "name": "python",
   "nbconvert_exporter": "python",
   "pygments_lexer": "ipython3",
   "version": "3.6.1"
  }
 },
 "nbformat": 4,
 "nbformat_minor": 2
}
