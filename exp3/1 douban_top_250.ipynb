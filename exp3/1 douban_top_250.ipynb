{
 "cells": [
  {
   "cell_type": "markdown",
   "metadata": {},
   "source": [
    "# 创建项目\n",
    "`scrapy startproject douban`  \n",
    "`cd douban`  \n",
    "`scrapy genspider douban_top_250`"
   ]
  },
  {
   "cell_type": "code",
   "execution_count": 1,
   "metadata": {},
   "outputs": [],
   "source": [
    "import os\n",
    "os.system('scrapy startproject douban_top_250')\n",
    "os.chdir('douban_top_250/') # cd ..\n",
    "os.system('scrapy genspider douban douban.com')"
   ]
  },
  {
   "cell_type": "markdown",
   "metadata": {},
   "source": [
    "<img src='pics\\startproject.png'>"
   ]
  },
  {
   "cell_type": "markdown",
   "metadata": {},
   "source": [
    "### 利用`scrapy shell https://movie.douban.com/top250`模拟一下爬取流程\n",
    "目标信息所在标签  \n",
    "<img src='pics\\info.png'>  "
   ]
  },
  {
   "attachments": {},
   "cell_type": "markdown",
   "metadata": {},
   "source": [
    "提取电影名字  \n",
    "<img src='pics\\name.png'>"
   ]
  },
  {
   "cell_type": "markdown",
   "metadata": {},
   "source": [
    "提取导演等信息\n",
    "<img src='pics\\director.png'>"
   ]
  },
  {
   "cell_type": "markdown",
   "metadata": {},
   "source": [
    "提取评价等信息  \n",
    "<img src='pics\\scores.png'>"
   ]
  },
  {
   "cell_type": "markdown",
   "metadata": {},
   "source": [
    "### 代码大致分析\n",
    "链接直接自己构造了  \n",
    "<img src='pics\\urls.png'>"
   ]
  },
  {
   "cell_type": "markdown",
   "metadata": {},
   "source": [
    "提取的流程和上面基本一致\n",
    "<img src='pics\\ext.png'>"
   ]
  },
  {
   "cell_type": "markdown",
   "metadata": {},
   "source": [
    "### 爬取\n",
    "<img src='pics\\cr1.png'>  \n",
    "\n",
    "数据存在`results.json`，日志存在`logger.txt`，查看一下  \n",
    "<img src='pics\\log11.png'>  \n",
    "\n",
    "确实爬取了250条  \n",
    "<img src='pics\\log12.png'>"
   ]
  }
 ],
 "metadata": {
  "kernelspec": {
   "display_name": "Python 3",
   "language": "python",
   "name": "python3"
  },
  "language_info": {
   "codemirror_mode": {
    "name": "ipython",
    "version": 3
   },
   "file_extension": ".py",
   "mimetype": "text/x-python",
   "name": "python",
   "nbconvert_exporter": "python",
   "pygments_lexer": "ipython3",
   "version": "3.6.1"
  }
 },
 "nbformat": 4,
 "nbformat_minor": 2
}
