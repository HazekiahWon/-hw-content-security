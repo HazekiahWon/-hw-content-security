{
 "cells": [
  {
   "cell_type": "markdown",
   "metadata": {},
   "source": [
    "# experiment"
   ]
  },
  {
   "cell_type": "code",
   "execution_count": 1,
   "metadata": {},
   "outputs": [],
   "source": [
    "import requests as rq\n",
    "import re"
   ]
  },
  {
   "cell_type": "markdown",
   "metadata": {},
   "source": [
    "### constants"
   ]
  },
  {
   "cell_type": "code",
   "execution_count": 2,
   "metadata": {},
   "outputs": [],
   "source": [
    "url = 'https://s.taobao.com/search'\n",
    "header = {'User-Agent':'Mozilla/5.0 (Windows NT 10.0; Win64; x64; rv:59.0) Gecko/20100101 Firefox/59.0'}"
   ]
  },
  {
   "cell_type": "markdown",
   "metadata": {},
   "source": [
    "### an example link\n",
    "https://s.taobao.com/search?\n",
    "- q=水杯\n",
    "- &imgfile=\n",
    "- &js=1\n",
    "- &stats_click=search_radio_all:1\n",
    "- &initiative_id=staobaoz_20180330\n",
    "- &ie=utf8\n",
    "- &bcoffset=4\n",
    "- &ntoffset=4\n",
    "- &p4ppushleft=1,48\n",
    "- &s=44 \n",
    "**specifies which page**"
   ]
  },
  {
   "cell_type": "code",
   "execution_count": 3,
   "metadata": {},
   "outputs": [
    {
     "name": "stdout",
     "output_type": "stream",
     "text": [
      "connection succeed for https://s.taobao.com/search?q=%E6%B0%B4%E6%9D%AF&s=88.\n"
     ]
    }
   ],
   "source": [
    "searchItem = '水杯'\n",
    "page = 2\n",
    "param = dict(q=searchItem, s=str(page*44))\n",
    "\n",
    "def get_rsp(params, url='https://s.taobao.com/search', head={'User-Agent':'Mozilla/5.0 (Windows NT 10.0; Win64; x64; rv:59.0) Gecko/20100101 Firefox/59.0'}):\n",
    "    try:\n",
    "        rsp = rq.get(url, params, headers=head) #查询param;浏览器模拟head\n",
    "        rsp.raise_for_status()\n",
    "        rsp.encoding = rsp.apparent_encoding\n",
    "        print('connection succeed for {}.'.format(rsp.url))\n",
    "    except:\n",
    "        print('fail with status code :', rsp.status_code)\n",
    "    return rsp\n",
    "rsp = get_rsp(param)"
   ]
  },
  {
   "cell_type": "code",
   "execution_count": 4,
   "metadata": {},
   "outputs": [
    {
     "data": {
      "text/plain": [
       "'lar\":{\"url\":\"/search?type\\\\u003dsimilar\\\\u0026app\\\\u003di2i\\\\u0026rec_type\\\\u003d1\\\\u0026uniqpid\\\\u003d\\\\u0026nid\\\\u003d556462149003\"}},\"p4pTags\":[],\"nid\":\"556462149003\",\"category\":\"50006889\",\"pid\":\"\",\"title\":\"膳魔师车载保温杯女男学生可爱大容量不锈钢便携办公商务刻字\\\\u003cspan class\\\\u003dH\\\\u003e水杯\\\\u003c/span\\\\u003e\",\"raw_title\":\"膳魔师车载保温杯女男学生可爱大容量不锈钢便携办公商务刻字水杯\",\"pic_url\":\"//g-search2.alicdn.com/img/bao/uploaded/i4/i1/867456817/TB1AUMoaxGYBuNjy0FnXXX5lpXa_!!0-item_pic.jpg\",\"detail_url\":\"//detail.tmall.com/item.htm?id\\\\u003d556462149003\\\\u0026ns\\\\u003d1\\\\u0026abbucket\\\\u003d0\",\"view_price\":\"199.00\",\"view_fee\":\"0.00\",\"item_loc\":\"上海\",\"view_sales\":\"1843人付款\",\"comment_count\":\"7713\",\"user_id\":\"867456817\",\"nick\":\"熹羽崎家居专营店\",\"shopcard\":{\"levelClasses\":[{\"levelClass\":\"icon-supple-level-guan\"},{\"levelClass\":\"icon-supple-level-guan\"},{\"levelClass\":\"icon-supple-level-guan\"}],\"isTmall\":true,\"delivery\":[495,1,7347],\"description\":[496,1,7087],\"service\":[495,1,7008],\"encryptedUserId\":\"UOmxuMm8LOmHu\",\"sellerCredit\":13,\"totalRate\":10000},\"icon\":[{\"title\":\"尚天猫，就购了\",\"dom_class\":\"icon-service-tianmao\",\"position\":\"1\",\"show_type\":\"0\",\"icon_category\":\"baobei\",\"outer_text\":\"0\",\"html\":\"\",\"icon_key\":\"icon-service-tianmao\",\"trace\":\"srpservice\",\"traceIdx\":0,\"innerText\":\"天猫宝贝\",\"url\":\"//www.tmall.com/\"},{\"title\":\"保险理赔\",\"dom_class\":\"icon-service-baoxian\",\"position\":\"99\",\"show_type\":\"1\",\"icon_category\":\"baobei\",\"outer_text\":\"0\",\"html\":\"\",\"icon_key\":\"icon-service-baoxian\",\"trace\":\"srpservice\",\"traceIdx\":1,\"innerText\":\"分组-保险理赔\",\"iconPopupComplex\":{\"popup_title\":\"保险理赔\",\"subIcons\":[{\"dom_class\":\"icon-service-yunfeixian\",\"icon_content\":\"卖家赠送退货运费险\"}]}}],\"comment_url\":\"//detail.tmall.com/item.htm?id\\\\u003d556462149003\\\\u0026ns\\\\u003d1\\\\u0026abbucket\\\\u003d0\\\\u0026on_comment\\\\u003d1\",\"shopLink\":\"//store.taobao.com/shop/view_shop.htm?user_number_id\\\\u003d867456817\",\"risk\":\"\"},{\"i2iTags\":{\"samestyle\":{\"url\":\"\"},\"similar\":{\"url\":\"/search?type\\\\u003dsimilar\\\\u0026app\\\\u003di2i\\\\u0026rec_type\\\\u003d1\\\\u0026uniqpid\\\\u003d\\\\u0026nid\\\\u003d43523680159\"}},\"p4pTags\":[],\"nid\":\"43523680159\",\"category\":\"50006889\",\"pid\":\"\",\"title\":\"日本SHINPUR象普保温杯 女\\\\u003cspan class\\\\u003dH\\\\u003e水杯\\\\u003c/span\\\\u003e高档杯子刻字学生不锈钢茶杯定制男\",\"raw_title\":\"日本SHINPUR象普保温杯 女水杯高档杯子刻字学生不锈钢茶杯定制男\",\"pic_url\":\"//g-search3.alicdn.com/img/bao/uploaded/i4/i2/2169216484/TB1VS3XgNSYBuNjSspjXXX73VXa_!!0-item_pic.jpg\",\"detail_url\":\"//detail.tmall.com/item.htm?id\\\\u003d43523680159\\\\u0026ns\\\\u003d1\\\\u0026abbucket\\\\u003d0\",\"view_price\":\"126.00\",\"view_fee\":\"0.00\",\"item_loc\":\"福建 泉州\",\"view_sales\":\"8387人付款\",\"comment_count\":\"39984\",\"user_id\":\"2169216484\",\"nick\":\"shinpur象普旗舰店\",\"shopcard\":{\"levelClasses\":[{\"levelClass\":\"icon-supple-level-guan\"},{\"levelClass\":\"icon-supple-level-guan\"},{\"levelClass\":\"icon-supple-level-guan\"},{\"levelClass\":\"icon-supple-level-guan\"}],\"isTmall\":true,\"delivery\":[486,1,2710],\"description\":[488,1,1866],\"service\":[488,1,3370],\"encryptedUserId\":\"UvCHLOFIYMCQ4MNTT\",\"sellerCredit\":14,\"totalRate\":10000},\"icon\":[{\"title\":\"尚天猫，就购了\",\"dom_class\":\"icon-service-tianmao\",\"position\":\"1\",\"show_type\":\"0\",\"icon_cat'"
      ]
     },
     "execution_count": 4,
     "metadata": {},
     "output_type": "execute_result"
    }
   ],
   "source": [
    "rsp.text[3000:6000]"
   ]
  },
  {
   "cell_type": "markdown",
   "metadata": {},
   "source": [
    "### analyse and print"
   ]
  },
  {
   "cell_type": "code",
   "execution_count": 5,
   "metadata": {},
   "outputs": [
    {
     "name": "stdout",
     "output_type": "stream",
     "text": [
      "index\ttitle　　　　　　　　　　　　　　　　　　　　　　　　　　　　\t   price   sales\n",
      "  1  \t膳魔师车载保温杯女男学生可爱大容量不锈钢便携办公商务刻字水杯　　　\t  199.00    1843\n",
      "  2  \t日本SHINPUR象普保温杯 女水杯高档杯子刻字学生不锈钢茶杯定制男\t  126.00    8387\n",
      "  3  \t恩尔美保温杯男大容量保温壶不锈钢家用旅行热水瓶户外旅游水壶2L　　\t   79.90   35798\n",
      "  4  \t保温杯定制广告杯批发印字刻字定做logo促销礼品水杯子不锈钢口杯　\t   12.50    1674\n",
      "  5  \t恩尔美玻璃杯水杯男创意潮流双层定制便携随手杯子防摔过滤女茶杯　　　\t   24.90  117161\n",
      "  6  \t保温杯女男士水杯儿童学生创意潮流大容量不锈钢瓶便携茶杯子定制　　　\t   29.90   61473\n",
      "  7  \t英国Bemega高档保温杯男士女316不锈钢水杯子商务定制刻字泡茶杯\t   99.00   15639\n",
      "  8  \t象力水晶双层玻璃杯男女士水杯带盖滤网商务办公便携泡茶杯子定制　　　\t   39.00   16811\n",
      "  9  \t哈尔斯高档保温杯商务男士女便携茶杯子 不锈钢刻字定制直身水杯　　　\t   79.00   13536\n",
      " 10  \tNAYASA高档保温杯ins时尚男女真空不锈钢水杯子情侣学生便携茶杯\t   59.00   25866\n",
      " 11  \tcuipo儿童保温杯带吸管316不锈钢水壶两用宝宝男女幼儿园防摔水杯\t  129.00   10621\n",
      " 12  \t哈尔斯保温杯男士女高档不锈钢ins便携水杯商务定制刻字泡茶杯子　　\t   59.00   10077\n",
      " 13  \t麦开seed智能随行杯 304不锈钢男女便携真空保温杯子水温监测水杯\t  149.00    2394\n",
      " 14  \t玻璃杯水杯杯子定制logo促销开业小礼品赠印字双层广告杯批發定做　\t    5.00    2033\n",
      " 15  \t大容量保温杯男士保温壶户外不锈钢车载旅游水壶保温瓶刻字可定制　　　\t   49.90   15392\n",
      " 16  \t德国博奥尼儿童保温杯带吸管两用小学生不锈钢幼儿园宝宝防摔水杯　　　\t  128.00    5522\n",
      " 17  \t奇古堂不锈钢保温杯男女士水壶便携水杯瓶学生大容量茶杯子定制　　　　\t   29.90  125119\n",
      " 18  \t英菲格雅保温杯男大容量保温壶暖热水瓶户外不锈钢车载旅行壶2L　　　\t   49.90   57793\n",
      " 19  \t象印保温杯SA48真空不锈钢水杯男女士便携茶杯大容量进口车载杯子　\t  279.00    3031\n",
      " 20  \t富光保温杯ins男女士商务真空不锈钢便携水杯刻字定制logo茶杯子\t   39.90    6968\n",
      " 21  \t正品日本膳魔师保温杯女大容量水杯不锈钢男超轻便携车载杯儿童杯　　　\t  155.00     911\n",
      " 22  \t希诺玻璃杯便携双层隔热茶杯男士透明耐热水晶杯加厚保温泡茶水杯　　　\t  138.00    2860\n",
      " 23  \tsoboio保温杯ins男女学生韩版创意潮流水杯子清新文艺便携茶杯\t   69.00   10332\n",
      " 24  \t英国Bemega玻璃杯男士女双层防摔便携水杯子随手杯定制刻字泡茶杯\t   99.00    4887\n",
      " 25  \t花间道茶水分离泡茶杯双层玻璃杯创意随手耐热过滤男女水杯子便携　　　\t   69.00   10249\n",
      " 26  \t匡迪儿童保温杯带吸管宝宝防摔不锈钢幼儿园男女学生两用水杯水壶　　　\t   39.80   23346\n",
      " 27  \tPaulFrank/大嘴猴保温杯男女士商务车载便携水杯子茶杯不锈钢水壶\t  128.00    5722\n",
      " 28  \t小水怪G5保温智能水杯多功能创意显示温度提醒喝水定制刻字男女　　　\t  149.00    2170\n",
      " 29  \topus保温杯女学生韩版清新文艺水杯便携迷你可爱不锈钢水壶杯子　　\t   79.80   17963\n",
      " 30  \t膳魔师保温杯正品JNL超轻车载水杯便携男女士儿童大容量日本杯子　　\t  150.00    1544\n",
      " 31  \t保康保温杯大容量保温壶男暖热水瓶户外不锈钢家用车载旅行水壶2L　　\t   39.90   11686\n",
      " 32  \t渐变色耐热玻璃杯男女大容量便携水杯随手杯创意茶杯韩国学生杯子　　　\t    9.90   59171\n",
      " 33  \t日超双层玻璃杯过滤玻璃茶杯男耐热加厚水杯办公室水晶杯泡茶杯子　　　\t   58.00   12578\n",
      " 34  \tface儿童保温水杯带吸管两用316不锈钢小学生幼儿园宝宝防摔水壶\t  159.00    7546\n",
      " 35  \t物生物玻璃杯水杯防摔男女创意双层随手茶杯便携过滤泡茶车载杯子　　　\t   45.00   12394\n",
      " 36  \t水杯耐热玻璃杯带盖车载水瓶透明水杯创意便携防漏杯子花茶杯柠檬　　　\t   29.90   17338\n",
      " 37  \t富光儿童保温杯 带吸管两用学生水壶 不锈钢男女宝宝可爱便携水杯　　\t  299.00    6436\n",
      " 38  \t卡西诺保温杯女不锈钢男士水杯大容量学生儿童壶便携瓶茶杯子定制　　　\t   19.90   34391\n",
      " 39  \t膳魔师焖烧杯不锈钢学生保温饭盒儿童食物焖烧罐闷烧壶大容量水杯　　　\t  159.00    1578\n",
      " 40  \t天喜儿童保温杯带吸管两用防摔幼儿园水壶便携宝宝杯子小学生水杯　　　\t   49.90   10908\n",
      " 41  \t英国Vanow高档保温杯男女士办公室商务泡茶杯带手柄不锈钢水杯子　\t   99.00    3157\n",
      " 42  \t物生物玻璃杯茶杯办公水杯花茶杯带把盖过滤创意男女泡茶家用杯子　　　\t   28.88   23346\n",
      " 43  \t富光保温杯男女士大容量304不锈钢水杯茶杯户外直身便携杯子定制　　\t   39.90    5652\n",
      " 44  \t玻璃杯便携水杯防摔随手杯双层耐热加厚带盖过滤男女家用杯子茶杯　　　\t   19.90   17577\n"
     ]
    }
   ],
   "source": [
    "content = rsp.text\n",
    "titlePat = '''\"raw_title\":\"(.*?)\"'''\n",
    "pricePat = '''\"view_price\":\"(.*?)\"'''\n",
    "salesPat = '''\"view_sales\":\"(.*?)人付款\"'''\n",
    "pats = [titlePat, pricePat, salesPat]\n",
    "results = []\n",
    "\n",
    "for pat in pats:\n",
    "    results.append([item.group(1) for item in re.finditer(pat, content)])\n",
    "\n",
    "results = zip(*results)\n",
    "fmt = '{2:^5}\\t{0[0]:{1}<33}\\t{0[1]:>8}{0[2]:>8}'\n",
    "print(fmt.format(['title', 'price', 'sales'], chr(12288), 'index'))\n",
    "for idx,tup in enumerate(results):\n",
    "    print(fmt.format(tup, chr(12288), idx+1))"
   ]
  },
  {
   "cell_type": "markdown",
   "metadata": {},
   "source": [
    "# Put it together"
   ]
  },
  {
   "cell_type": "code",
   "execution_count": 6,
   "metadata": {},
   "outputs": [],
   "source": [
    "def query_one_page(item, page):\n",
    "    rsp = get_rsp(params=dict(q=item, s=str(page*44)))\n",
    "    content = rsp.text\n",
    "    titlePat = '''\"raw_title\":\"(.*?)\"'''\n",
    "    pricePat = '''\"view_price\":\"(.*?)\"'''\n",
    "    salesPat = '''\"view_sales\":\"(.*?)人付款\"'''\n",
    "    pats = [titlePat, pricePat, salesPat]\n",
    "    results = []\n",
    "\n",
    "    for pat in pats:\n",
    "        results.append([item.group(1) for item in re.finditer(pat, content)])\n",
    "\n",
    "    return results # a list of 3, each a list\n",
    "\n",
    "def search_taobao(item, cnt):\n",
    "    # cnt should not be negative\n",
    "    assert(cnt>0)\n",
    "    n_pages = (cnt-1) // 44 + 1\n",
    "    final_results = None\n",
    "    \n",
    "    # query each page\n",
    "    for i in range(n_pages):\n",
    "        # returns a list of 3 list\n",
    "        results = query_one_page(item, i+1)\n",
    "\n",
    "        if final_results is None:\n",
    "            final_results = results\n",
    "        else:\n",
    "            # extend has side effects on the caller\n",
    "            [old.extend(new) for new,old in zip(results, final_results)]\n",
    "    # takes only the required\n",
    "    final_results = [row[:cnt] for row in final_results]\n",
    "    \n",
    "    fmt = '{2:^5}\\t{0[0]:{1}<33}\\t{0[1]:>8}{0[2]:>8}'\n",
    "    print(fmt.format(['title', 'price', 'sales'], chr(12288), 'index'))\n",
    "    for idx,tup in enumerate(zip(*final_results)):\n",
    "        print(fmt.format(tup, chr(12288), idx+1))"
   ]
  },
  {
   "cell_type": "code",
   "execution_count": 7,
   "metadata": {},
   "outputs": [
    {
     "name": "stdout",
     "output_type": "stream",
     "text": [
      "connection succeed for https://s.taobao.com/search?q=%E6%B0%B4%E6%9D%AF&s=44.\n",
      "connection succeed for https://s.taobao.com/search?q=%E6%B0%B4%E6%9D%AF&s=88.\n",
      "connection succeed for https://s.taobao.com/search?q=%E6%B0%B4%E6%9D%AF&s=132.\n",
      "index\ttitle　　　　　　　　　　　　　　　　　　　　　　　　　　　　\t   price   sales\n",
      "  1  \t拾喜保温杯男定制大容量水杯304不锈钢商务女杯子便携泡茶杯500ml\t   39.90   20033\n",
      "  2  \t韩国小麦杯子女学生韩版小清新水杯男创意潮流简约原宿便携随手杯　　　\t    9.80    1256\n",
      "  3  \t双层玻璃杯男便携水杯保温随手防摔带盖家用过滤水晶隔热泡茶杯子　　　\t   48.00   13663\n",
      "  4  \t古琦玻璃杯男女士双层创意水杯子学生便携过滤随手家用泡茶杯定制　　　\t   26.80  138467\n",
      "  5  \t日超高档保温杯女清新男士情侣茶杯子儿童便携学生水杯创意潮流　　　　\t   39.90   22740\n",
      "  6  \tTwinbell儿童保温杯带吸管两用防摔宝宝水杯幼儿园小学生便携水壶\t   38.00   18430\n",
      "  7  \tTHERMOS膳魔师日本进口不锈钢保温杯JNL-500 500ml水杯杯子\t  158.00   11029\n",
      "  8  \t哈尔斯 保温杯 男士女高档不锈钢水杯便携真空商务定制刻字茶杯子　　\t   59.00   24429\n",
      "  9  \t日本304不锈钢保温杯男女士儿童学生带盖杯子便携水杯500ML大容量\t   79.00   10538\n",
      " 10  \t膳魔师保温杯女士正品车载杯儿童大容量水杯日本超轻男士便携杯子　　　\t  155.00    3833\n",
      " 11  \t韩国杯具熊正品儿童保温杯带吸管两用水壶男女学生婴儿便携水杯子　　　\t  138.00    8193\n",
      " 12  \t苏泊尔保温杯 男女士304不锈钢真空水杯学生直身便携大容量茶杯子　\t   69.00   10561\n",
      " 13  \t日本正品象印不锈钢保温保冷车载杯瓶壶KB/KC/SA/SC/SD36/48/60ml\t  155.00    1883\n",
      " 14  \t凯霖茶水分离泡茶杯双层玻璃杯男茶杯创意随手水杯过滤便携女杯子　　　\t  119.00    5692\n",
      " 15  \t英国Vanow高档保温杯男士女316不锈钢便携水杯子商务定制刻字茶杯\t   79.00   24146\n",
      " 16  \t象印保温杯KB48真空不锈钢水杯男女士便携茶杯大容量进口车载杯子　\t  259.00    5138\n",
      " 17  \t迪士尼儿童保温杯带吸管小学生不锈钢水壶幼儿园宝宝两用防摔水杯　　　\t   55.00   34705\n",
      " 18  \t洛可可55度杯降温杯 五十五度暖暖保温杯女 创意礼物水杯非恒温杯　\t  298.00    4330\n",
      " 19  \t佳琪保温杯儿童水壶带吸管宝宝男女幼儿园学生不锈钢防摔两用水杯　　　\t   39.90   34998\n",
      " 20  \t进口膳魔师不锈钢保温杯轻量长效保温杯车载水杯 JNL-500ml　\t  188.00    3627\n",
      " 21  \t希诺玻璃杯双层耐热便携水杯透明创意家用杯子带盖过滤男女士茶杯　　　\t  138.00    5098\n",
      " 22  \t韩国杯具熊正品儿童保温杯带吸管两用水壶女小学生宝宝幼儿园水杯　　　\t  138.00    5517\n",
      " 23  \t保温杯男女大容量便携泡茶杯瓶学生刻字304不锈钢水杯子创意潮流　　\t   49.00   12546\n",
      " 24  \t富光玻璃杯便携双层水杯透明圆形带盖男女车载办公家用随手茶杯子　　　\t   25.80   23315\n",
      " 25  \t膳魔师真空不锈钢保温杯JNL-501法斗狗 复古杯 轻盈设计500ml\t  298.00    3351\n",
      " 26  \t日本膳魔师保温杯正品JNR-350-500 JNL-352-502男女不锈钢车载杯\t  155.00    3261\n",
      " 27  \t膳魔师保温杯 500ml JNL-502 日本 男 保温杯女 情侣 便携  水杯\t  178.00    3499\n",
      " 28  \t希诺双层玻璃杯男加厚隔热泡茶杯女士透明水晶保温杯商务车载水杯　　　\t  138.00    5942\n",
      " 29  \t富光保温杯男女士大容量儿童水杯304不锈钢500ml便携户外杯子学生\t   39.90   40093\n",
      " 30  \t富光双层家用带盖玻璃杯男女学生水杯便携泡茶杯过滤杯子随手杯　　　　\t   26.80   40935\n",
      " 31  \tOPUS保温杯女便携水杯学生不锈钢水壶儿童创意杯子迷你可爱大肚杯　\t   59.00   35670\n",
      " 32  \t富光玻璃杯 双层便携水杯创意带盖过滤办公杯子 男女耐热车载茶杯　　\t   45.00   21546\n",
      " 33  \t智能保温杯水杯304不锈钢男士女便携商务定制24小时杯子提醒喝水　\t  159.00    3903\n",
      " 34  \t迪士尼儿童保温杯带吸管防摔两用不锈钢小学生水杯幼儿园宝宝水壶　　　\t   55.00   18823\n",
      " 35  \t花间道保温杯男女士高档真空不锈钢大容量茶杯子创意便携车载水杯　　　\t  129.00    6817\n",
      " 36  \t物生物茶水分离泡茶杯女双层玻璃杯创意随手过滤水杯便携花茶杯子　　　\t   59.80   30429\n",
      " 37  \t富光保温杯 男女士定制商务水杯真空304不锈钢刻字杯子便携茶杯　　\t   39.90   37834\n",
      " 38  \tSGUAI小水怪G5智能饮水杯提醒喝水保温健康杯便携运动水和随手杯\t  149.00    3176\n",
      " 39  \tface儿童保温杯带吸管两用不锈钢防摔水壶小学生幼儿园宝宝水杯子　\t  139.00   13206\n",
      " 40  \thoomey儿童保温杯带吸管两用防摔杯小学生水壶幼儿园男女宝宝水杯\t   79.00   23541\n",
      " 41  \t起凡茶水分离泡茶杯双层玻璃杯男士便携随手杯保温旅行女喝水杯子　　　\t  259.00    4216\n",
      " 42  \tcaka清新保温杯女男儿童可爱不锈钢水杯便携杯子学生水壶创意潮流　\t   39.90   28456\n",
      " 43  \t不锈钢儿童保温杯带吸管两用防摔宝宝水壶幼儿园小学生便携水杯　　　　\t   79.00    9704\n",
      " 44  \t膳魔师保温杯男女士车载杯学生儿童大容量水杯日本超轻便携杯子　　　　\t  155.00    2891\n",
      " 45  \t膳魔师车载保温杯女男学生可爱大容量不锈钢便携办公商务刻字水杯　　　\t  199.00    1843\n",
      " 46  \t日本SHINPUR象普保温杯 女水杯高档杯子刻字学生不锈钢茶杯定制男\t  126.00    8387\n",
      " 47  \t恩尔美保温杯男大容量保温壶不锈钢家用旅行热水瓶户外旅游水壶2L　　\t   79.90   35798\n",
      " 48  \t保温杯定制广告杯批发印字刻字定做logo促销礼品水杯子不锈钢口杯　\t   12.50    1674\n",
      " 49  \t恩尔美玻璃杯水杯男创意潮流双层定制便携随手杯子防摔过滤女茶杯　　　\t   24.90  117161\n",
      " 50  \t保温杯女男士水杯儿童学生创意潮流大容量不锈钢瓶便携茶杯子定制　　　\t   29.90   61473\n",
      " 51  \t英国Bemega高档保温杯男士女316不锈钢水杯子商务定制刻字泡茶杯\t   99.00   15639\n",
      " 52  \t象力水晶双层玻璃杯男女士水杯带盖滤网商务办公便携泡茶杯子定制　　　\t   39.00   16811\n",
      " 53  \t哈尔斯高档保温杯商务男士女便携茶杯子 不锈钢刻字定制直身水杯　　　\t   79.00   13536\n",
      " 54  \tNAYASA高档保温杯ins时尚男女真空不锈钢水杯子情侣学生便携茶杯\t   59.00   25866\n",
      " 55  \tcuipo儿童保温杯带吸管316不锈钢水壶两用宝宝男女幼儿园防摔水杯\t  129.00   10621\n",
      " 56  \t哈尔斯保温杯男士女高档不锈钢ins便携水杯商务定制刻字泡茶杯子　　\t   59.00   10077\n",
      " 57  \t麦开seed智能随行杯 304不锈钢男女便携真空保温杯子水温监测水杯\t  149.00    2394\n",
      " 58  \t玻璃杯水杯杯子定制logo促销开业小礼品赠印字双层广告杯批發定做　\t    5.00    2033\n",
      " 59  \t大容量保温杯男士保温壶户外不锈钢车载旅游水壶保温瓶刻字可定制　　　\t   49.90   15392\n",
      " 60  \t德国博奥尼儿童保温杯带吸管两用小学生不锈钢幼儿园宝宝防摔水杯　　　\t  128.00    5522\n",
      " 61  \t奇古堂不锈钢保温杯男女士水壶便携水杯瓶学生大容量茶杯子定制　　　　\t   29.90  125119\n",
      " 62  \t英菲格雅保温杯男大容量保温壶暖热水瓶户外不锈钢车载旅行壶2L　　　\t   49.90   57793\n",
      " 63  \t象印保温杯SA48真空不锈钢水杯男女士便携茶杯大容量进口车载杯子　\t  279.00    3031\n",
      " 64  \t富光保温杯ins男女士商务真空不锈钢便携水杯刻字定制logo茶杯子\t   39.90    6968\n",
      " 65  \t正品日本膳魔师保温杯女大容量水杯不锈钢男超轻便携车载杯儿童杯　　　\t  155.00     911\n",
      " 66  \t希诺玻璃杯便携双层隔热茶杯男士透明耐热水晶杯加厚保温泡茶水杯　　　\t  138.00    2860\n",
      " 67  \tsoboio保温杯ins男女学生韩版创意潮流水杯子清新文艺便携茶杯\t   69.00   10332\n",
      " 68  \t英国Bemega玻璃杯男士女双层防摔便携水杯子随手杯定制刻字泡茶杯\t   99.00    4887\n",
      " 69  \t花间道茶水分离泡茶杯双层玻璃杯创意随手耐热过滤男女水杯子便携　　　\t   69.00   10249\n",
      " 70  \t匡迪儿童保温杯带吸管宝宝防摔不锈钢幼儿园男女学生两用水杯水壶　　　\t   39.80   23346\n",
      " 71  \tPaulFrank/大嘴猴保温杯男女士商务车载便携水杯子茶杯不锈钢水壶\t  128.00    5722\n",
      " 72  \t小水怪G5保温智能水杯多功能创意显示温度提醒喝水定制刻字男女　　　\t  149.00    2170\n",
      " 73  \topus保温杯女学生韩版清新文艺水杯便携迷你可爱不锈钢水壶杯子　　\t   79.80   17963\n",
      " 74  \t膳魔师保温杯正品JNL超轻车载水杯便携男女士儿童大容量日本杯子　　\t  150.00    1544\n",
      " 75  \t保康保温杯大容量保温壶男暖热水瓶户外不锈钢家用车载旅行水壶2L　　\t   39.90   11686\n",
      " 76  \t渐变色耐热玻璃杯男女大容量便携水杯随手杯创意茶杯韩国学生杯子　　　\t    9.90   59171\n",
      " 77  \t日超双层玻璃杯过滤玻璃茶杯男耐热加厚水杯办公室水晶杯泡茶杯子　　　\t   58.00   12578\n",
      " 78  \tface儿童保温水杯带吸管两用316不锈钢小学生幼儿园宝宝防摔水壶\t  159.00    7546\n",
      " 79  \t物生物玻璃杯水杯防摔男女创意双层随手茶杯便携过滤泡茶车载杯子　　　\t   45.00   12394\n",
      " 80  \t水杯耐热玻璃杯带盖车载水瓶透明水杯创意便携防漏杯子花茶杯柠檬　　　\t   29.90   17338\n",
      " 81  \t富光儿童保温杯 带吸管两用学生水壶 不锈钢男女宝宝可爱便携水杯　　\t  299.00    6436\n",
      " 82  \t卡西诺保温杯女不锈钢男士水杯大容量学生儿童壶便携瓶茶杯子定制　　　\t   19.90   34391\n",
      " 83  \t膳魔师焖烧杯不锈钢学生保温饭盒儿童食物焖烧罐闷烧壶大容量水杯　　　\t  159.00    1578\n",
      " 84  \t天喜儿童保温杯带吸管两用防摔幼儿园水壶便携宝宝杯子小学生水杯　　　\t   49.90   10908\n",
      " 85  \t英国Vanow高档保温杯男女士办公室商务泡茶杯带手柄不锈钢水杯子　\t   99.00    3157\n",
      " 86  \t物生物玻璃杯茶杯办公水杯花茶杯带把盖过滤创意男女泡茶家用杯子　　　\t   28.88   23346\n",
      " 87  \t富光保温杯男女士大容量304不锈钢水杯茶杯户外直身便携杯子定制　　\t   39.90    5652\n",
      " 88  \t玻璃杯便携水杯防摔随手杯双层耐热加厚带盖过滤男女家用杯子茶杯　　　\t   19.90   17577\n",
      " 89  \t万象双层玻璃杯男士便携车载隔热水杯带滤网透明水晶办公泡茶杯子　　　\t  136.00    1326\n",
      " 90  \t茶水分离保温杯男士便携车载高档泡茶杯子304不锈钢水杯女办公室　　\t   59.00   12557\n",
      " 91  \t凯霖茶水分离泡茶保温杯男不锈钢可爱便携水杯女士花茶杯过滤创意　　　\t  159.00    3147\n",
      " 92  \t乐扣乐扣保温杯女士不锈钢水壶男士便携杯子locklock水杯学生茶杯\t   86.00    4393\n",
      " 93  \t富光双层玻璃杯大容量带把手办公水杯 带盖有滤网玻璃茶杯子正品　　　\t   29.80    8497\n",
      " 94  \t希诺双层玻璃杯女士便携耐热随行茶杯可爱清新创意水杯加厚随手杯　　　\t  158.00    1675\n",
      " 95  \t双层玻璃杯水杯杯子定制logo广告杯批发定做印字促销开业小礼品赠　\t    6.80    2003\n",
      " 96  \t物生物玻璃杯女便携磨砂杯子花茶杯韩国创意简约透明学生韩版水杯　　　\t   49.00    6639\n",
      " 97  \t德国GEYA玻璃杯 商务水晶杯车载便携水杯 双层玻璃杯隔热过滤茶杯\t  118.00    2409\n",
      " 98  \t不锈钢保温杯女小学生ins水杯儿童便携杯子大容量水壶男定制刻字　　\t   19.90   14479\n",
      " 99  \t英国Vanow高档保温杯男士女316不锈钢商务便携水杯子定制刻字茶杯\t   79.00    3361\n",
      " 100 \t日本ASVEL保温杯 时尚男女士ins便携学生水杯子不锈钢茶杯咖啡杯\t  129.00    5762\n"
     ]
    }
   ],
   "source": [
    "search_taobao(item='水杯', cnt=100)"
   ]
  }
 ],
 "metadata": {
  "kernelspec": {
   "display_name": "Python 3",
   "language": "python",
   "name": "python3"
  },
  "language_info": {
   "codemirror_mode": {
    "name": "ipython",
    "version": 3
   },
   "file_extension": ".py",
   "mimetype": "text/x-python",
   "name": "python",
   "nbconvert_exporter": "python",
   "pygments_lexer": "ipython3",
   "version": "3.6.1"
  }
 },
 "nbformat": 4,
 "nbformat_minor": 2
}
