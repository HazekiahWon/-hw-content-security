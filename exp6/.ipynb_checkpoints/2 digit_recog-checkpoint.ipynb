{
 "cells": [
  {
   "cell_type": "markdown",
   "metadata": {},
   "source": [
    "# 读入数据\n",
    "<img src='imgs\\read.png'>\n",
    "前半部分是读取数据文件`data\\usps`，其格式为\n",
    "<img src='imgs\\fmt.png'>\n",
    "需要注意的是  \n",
    "    1. `eval()`，后面在`train()`报错，原因是原始读入的`labels`是字符型  \n",
    "    2. `usps`数据的每个图片都是向量，所以还要先`reshape`\n",
    "    3. 因为原始图片经过可视化后很淡，我加了gamma矫正，而且确实可以提升预测精度\n",
    "<img src='imgs\\dim.png' style='float:left;'>\n",
    "<img src='imgs\\gamma.png'>"
   ]
  },
  {
   "cell_type": "markdown",
   "metadata": {},
   "source": [
    "# 预处理\n",
    "<img src='imgs\\deskew.png'>\n",
    "通过求图像的几何矩矫正图像倾斜"
   ]
  },
  {
   "cell_type": "markdown",
   "metadata": {},
   "source": [
    "# HOG \n",
    "<img src='imgs\\hog1.png'>\n",
    "<img src='imgs\\hog2.png'>\n",
    "流程大概是：\n",
    "    1. `x,y`方向的一阶差分，`Sobel`算子\n",
    "    2. 刚求出来的梯度按`方向-角度`，`大小-长度`，转化为极坐标\n",
    "    3. 对角度做归一化，注意是弧度，所以`range=[0,2pi]`，然后放大到`bin`，这样`bin`间隔直接是1\n",
    "    4. 分`cell`，我这里是分了四个，所以使得`BIN_LEN=SZ//2`\n",
    "    5. `np.bincount`以模长为权重累加\n",
    "    6. 最后得到一个$4 \\times 16$的向量，再归一化，使得累加和为1\n",
    "    7. 最后一句好像是废话，因为`sum()`一定几乎为1.0"
   ]
  },
  {
   "cell_type": "markdown",
   "metadata": {},
   "source": [
    "# 训练和预测\n",
    "之后就是分别用KNN和SVM，8/2划分了5832训练样本\n",
    "<img src='imgs\\knn.png' style='float:left;'>\n",
    "<img src='imgs\\svm.png'>"
   ]
  },
  {
   "cell_type": "markdown",
   "metadata": {},
   "source": [
    "<img src='results\\knn.png' style='float:left;'>\n",
    "<img src='results\\svm.png'>"
   ]
  }
 ],
 "metadata": {
  "kernelspec": {
   "display_name": "Python 3",
   "language": "python",
   "name": "python3"
  },
  "language_info": {
   "codemirror_mode": {
    "name": "ipython",
    "version": 3
   },
   "file_extension": ".py",
   "mimetype": "text/x-python",
   "name": "python",
   "nbconvert_exporter": "python",
   "pygments_lexer": "ipython3",
   "version": "3.6.1"
  }
 },
 "nbformat": 4,
 "nbformat_minor": 2
}
